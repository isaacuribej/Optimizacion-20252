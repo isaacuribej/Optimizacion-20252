{
 "cells": [
  {
   "cell_type": "markdown",
   "metadata": {
    "id": "D5IF3-P6lcls"
   },
   "source": [
    "# **Método de la Bisección**\n",
    "\n",
    "Isaac Esteban Uribe Jaramillo\n"
   ]
  },
  {
   "cell_type": "markdown",
   "metadata": {
    "id": "erw2OfKgBO6e"
   },
   "source": [
    "## **1. Importamos librerías**"
   ]
  },
  {
   "cell_type": "code",
   "execution_count": 1,
   "metadata": {
    "executionInfo": {
     "elapsed": 460,
     "status": "ok",
     "timestamp": 1756487401240,
     "user": {
      "displayName": "ISAAC ESTEBAN URIBE JARAMILLO",
      "userId": "01502669180038648447"
     },
     "user_tz": 300
    },
    "id": "q3lR0v46gMTQ"
   },
   "outputs": [],
   "source": [
    "import numpy as np\n",
    "import matplotlib.pyplot as plt\n",
    "import pandas as pd"
   ]
  },
  {
   "cell_type": "markdown",
   "metadata": {
    "id": "XwCOWfmLBU-i"
   },
   "source": [
    "## **2. Inicialización y pre-procesamiento**"
   ]
  },
  {
   "cell_type": "markdown",
   "metadata": {
    "id": "lFEVqBUoJHNf"
   },
   "source": [
    "### 2.1 Definimos la función y su gráfica"
   ]
  },
  {
   "cell_type": "code",
   "execution_count": 2,
   "metadata": {
    "executionInfo": {
     "elapsed": 3,
     "status": "ok",
     "timestamp": 1756487408881,
     "user": {
      "displayName": "ISAAC ESTEBAN URIBE JARAMILLO",
      "userId": "01502669180038648447"
     },
     "user_tz": 300
    },
    "id": "XMhL8wfYJZNA"
   },
   "outputs": [],
   "source": [
    "fx = lambda x: 2*np.sin(x)-(x**2/10)"
   ]
  },
  {
   "cell_type": "code",
   "execution_count": 6,
   "metadata": {
    "colab": {
     "base_uri": "https://localhost:8080/",
     "height": 472
    },
    "executionInfo": {
     "elapsed": 259,
     "status": "ok",
     "timestamp": 1756487579089,
     "user": {
      "displayName": "ISAAC ESTEBAN URIBE JARAMILLO",
      "userId": "01502669180038648447"
     },
     "user_tz": 300
    },
    "id": "gQMbNymnNhIh",
    "outputId": "54c40b83-9490-4363-80f3-b7fc38135b87"
   },
   "outputs": [
    {
     "data": {
      "image/png": "[encoded data removed]",
      "text/plain": [
       "<Figure size 640x480 with 1 Axes>"
      ]
     },
     "metadata": {},
     "output_type": "display_data"
    }
   ],
   "source": [
    "x = np.linspace(-3, 3, 100)\n",
    "y = fx(x)\n",
    "plt.plot(x, y)\n",
    "plt.xlabel('x')\n",
    "plt.ylabel('f(x)')\n",
    "plt.title('Graph of f(x)')\n",
    "plt.grid(True)\n",
    "plt.show()"
   ]
  },
  {
   "cell_type": "markdown",
   "metadata": {
    "id": "RoH5PADoJLpo"
   },
   "source": [
    "### 2.2 Seleccionamos valores iniciales para Xl, Xu, Err"
   ]
  },
  {
   "cell_type": "code",
   "execution_count": null,
   "metadata": {
    "id": "uPe33o01gYkG"
   },
   "outputs": [],
   "source": [
    "xl, xu = 1, 3\n",
    "# xl, xu = -2, 2\n",
    "err = 0.000001"
   ]
  },
  {
   "cell_type": "markdown",
   "metadata": {
    "id": "aWHAKefMJ5xH"
   },
   "source": [
    "### 2.3 Inicializamos el Dataframe"
   ]
  },
  {
   "cell_type": "code",
   "execution_count": null,
   "metadata": {
    "id": "GpeaI3CqFXHV"
   },
   "outputs": [],
   "source": [
    "df = []"
   ]
  },
  {
   "cell_type": "markdown",
   "metadata": {
    "id": "r4pjtZJJJ9XP"
   },
   "source": [
    "### 2.4 Determinamos cuantas iteraciones necesitamos para llegar a la convergencia"
   ]
  },
  {
   "cell_type": "code",
   "execution_count": null,
   "metadata": {
    "id": "uy3IxjJTIfe1"
   },
   "outputs": [],
   "source": [
    "def iteracionesMaximas(xl,xu,err):\n",
    "  return int(np.log2((xu - xl) / err) - 1)"
   ]
  },
  {
   "cell_type": "markdown",
   "metadata": {
    "id": "dbFYSi4uEu9V"
   },
   "source": [
    "## **3. Algorítmo de la Bisección**"
   ]
  },
  {
   "cell_type": "code",
   "execution_count": null,
   "metadata": {
    "id": "KCM5Ua_r2-kU"
   },
   "outputs": [],
   "source": [
    "def biseccion(fx,xlower,xupper,err,i_max):\n",
    "  '''\n",
    "\n",
    "  '''\n",
    "  f_xl, f_xu = fx(xlower), fx(xupper)\n",
    "  if not f_xl * f_xu < 0:\n",
    "    print(\"La ecuación no tiene una raiz en el intervalo dado\")\n",
    "    return None\n",
    "  for i in range(i_max):\n",
    "    f_xl, f_xu = fx(xlower), fx(xupper)\n",
    "    xroot = (xlower + xupper) / 2\n",
    "    f_xr = fx(xroot)\n",
    "    error = abs(xupper - xlower)\n",
    "    df.append([i,xlower,xupper,xroot,f_xl,f_xu,f_xr,error])\n",
    "    if error < err:\n",
    "      return xroot\n",
    "    if f_xr * f_xl < 0:\n",
    "      xupper = xroot\n",
    "    else:\n",
    "      xlower = xroot\n",
    "  return xroot"
   ]
  },
  {
   "cell_type": "markdown",
   "metadata": {
    "id": "XwJNYUwzK9eI"
   },
   "source": [
    "## **4. Obtención de resultados**"
   ]
  },
  {
   "cell_type": "code",
   "execution_count": null,
   "metadata": {
    "colab": {
     "base_uri": "https://localhost:8080/"
    },
    "executionInfo": {
     "elapsed": 9,
     "status": "ok",
     "timestamp": 1743778065369,
     "user": {
      "displayName": "EFRAÍN GARC�A VALENCIA",
      "userId": "07090753714787850374"
     },
     "user_tz": 300
    },
    "id": "O2Fij55Gg6Zb",
    "outputId": "4c21c375-8f27-4173-d3a5-1de221057c72"
   },
   "outputs": [
    {
     "name": "stdout",
     "output_type": "stream",
     "text": [
      "Iteraciones máximas:  19\n",
      "La raíz se encuentra aproximadamente en:  2.752948760986328\n"
     ]
    }
   ],
   "source": [
    "itermax = iteracionesMaximas(xl,xu,err)\n",
    "print(\"Iteraciones máximas: \", itermax)\n",
    "r = biseccion(fx,xl,xu,err,itermax)\n",
    "print(\"La raíz se encuentra aproximadamente en: \", r)"
   ]
  },
  {
   "cell_type": "code",
   "execution_count": null,
   "metadata": {
    "colab": {
     "base_uri": "https://localhost:8080/",
     "height": 676
    },
    "executionInfo": {
     "elapsed": 193,
     "status": "ok",
     "timestamp": 1743778065558,
     "user": {
      "displayName": "EFRAÍN GARC�A VALENCIA",
      "userId": "07090753714787850374"
     },
     "user_tz": 300
    },
    "id": "ChpZfHteD4xe",
    "outputId": "0d87d1b3-5bab-4b00-8447-d5f6825239af"
   },
   "outputs": [
    {
     "data": {
      "application/vnd.google.colaboratory.intrinsic+json": {
       "summary": "{\n  \"name\": \"results\",\n  \"rows\": 19,\n  \"fields\": [\n    {\n      \"column\": \"Iteraci\\u00f3n\",\n      \"properties\": {\n        \"dtype\": \"number\",\n        \"std\": 5,\n        \"min\": 0,\n        \"max\": 18,\n        \"num_unique_values\": 19,\n        \"samples\": [\n          0,\n          5,\n          11\n        ],\n        \"semantic_type\": \"\",\n        \"description\": \"\"\n      }\n    },\n    {\n      \"column\": \"xl\",\n      \"properties\": {\n        \"dtype\": \"number\",\n        \"std\": 0.42797138288256825,\n        \"min\": 1.0,\n        \"max\": 2.7529449462890625,\n        \"num_unique_values\": 7,\n        \"samples\": [\n          1.0,\n          2.0,\n          2.7529296875\n        ],\n        \"semantic_type\": \"\",\n        \"description\": \"\"\n      }\n    },\n    {\n      \"column\": \"xu\",\n      \"properties\": {\n        \"dtype\": \"number\",\n        \"std\": 0.10146436264766553,\n        \"min\": 2.7529525756835938,\n        \"max\": 3.0,\n        \"num_unique_values\": 13,\n        \"samples\": [\n          2.752960205078125,\n          2.7530517578125,\n          3.0\n        ],\n        \"semantic_type\": \"\",\n        \"description\": \"\"\n      }\n    },\n    {\n      \"column\": \"xr\",\n      \"properties\": {\n        \"dtype\": \"number\",\n        \"std\": 0.18533496289044238,\n        \"min\": 2.0,\n        \"max\": 2.875,\n        \"num_unique_values\": 19,\n        \"samples\": [\n          2.0,\n          2.78125,\n          2.75341796875\n        ],\n        \"semantic_type\": \"\",\n        \"description\": \"\"\n      }\n    },\n    {\n      \"column\": \"f(xl)\",\n      \"properties\": {\n        \"dtype\": \"number\",\n        \"std\": 0.4803785107318824,\n        \"min\": 4.052491865191854e-06,\n        \"max\": 1.582941969615793,\n        \"num_unique_values\": 7,\n        \"samples\": [\n          1.582941969615793,\n          1.4185948536513635,\n          4.069535016060222e-05\n        ],\n        \"semantic_type\": \"\",\n        \"description\": \"\"\n      }\n    },\n    {\n      \"column\": \"f(xu)\",\n      \"properties\": {\n        \"dtype\": \"number\",\n        \"std\": 0.25366271889521735,\n        \"min\": -0.6177599838802657,\n        \"max\": -1.4269020916279906e-05,\n        \"num_unique_values\": 13,\n        \"samples\": [\n          -3.2590589452707874e-05,\n          -0.00025245376046578727,\n          -0.6177599838802657\n        ],\n        \"semantic_type\": \"\",\n        \"description\": \"\"\n      }\n    },\n    {\n      \"column\": \"f(xr)\",\n      \"properties\": {\n        \"dtype\": \"number\",\n        \"std\": 0.36107907354646,\n        \"min\": -0.2996705132731583,\n        \"max\": 1.4185948536513635,\n        \"num_unique_values\": 19,\n        \"samples\": [\n          1.4185948536513635,\n          -0.0683453542607918,\n          -0.001131986701868315\n        ],\n        \"semantic_type\": \"\",\n        \"description\": \"\"\n      }\n    },\n    {\n      \"column\": \"Error\",\n      \"properties\": {\n        \"dtype\": \"number\",\n        \"std\": 0.49951261148185555,\n        \"min\": 7.62939453125e-06,\n        \"max\": 2.0,\n        \"num_unique_values\": 19,\n        \"samples\": [\n          2.0,\n          0.0625,\n          0.0009765625\n        ],\n        \"semantic_type\": \"\",\n        \"description\": \"\"\n      }\n    }\n  ]\n}",
       "type": "dataframe",
       "variable_name": "results"
      },
      "text/html": [
       "\n",
       "  <div id=\"df-3b08d00a-935f-480d-9e9d-f91293b78961\" class=\"colab-df-container\">\n",
       "    <div>\n",
       "<style scoped>\n",
       "    .dataframe tbody tr th:only-of-type {\n",
       "        vertical-align: middle;\n",
       "    }\n",
       "\n",
       "    .dataframe tbody tr th {\n",
       "        vertical-align: top;\n",
       "    }\n",
       "\n",
       "    .dataframe thead th {\n",
       "        text-align: right;\n",
       "    }\n",
       "</style>\n",
       "<table border=\"1\" class=\"dataframe\">\n",
       "  <thead>\n",
       "    <tr style=\"text-align: right;\">\n",
       "      <th></th>\n",
       "      <th>xl</th>\n",
       "      <th>xu</th>\n",
       "      <th>xr</th>\n",
       "      <th>f(xl)</th>\n",
       "      <th>f(xu)</th>\n",
       "      <th>f(xr)</th>\n",
       "      <th>Error</th>\n",
       "    </tr>\n",
       "    <tr>\n",
       "      <th>Iteración</th>\n",
       "      <th></th>\n",
       "      <th></th>\n",
       "      <th></th>\n",
       "      <th></th>\n",
       "      <th></th>\n",
       "      <th></th>\n",
       "      <th></th>\n",
       "    </tr>\n",
       "  </thead>\n",
       "  <tbody>\n",
       "    <tr>\n",
       "      <th>0</th>\n",
       "      <td>1.000000</td>\n",
       "      <td>3.000000</td>\n",
       "      <td>2.000000</td>\n",
       "      <td>1.582942</td>\n",
       "      <td>-0.617760</td>\n",
       "      <td>1.418595</td>\n",
       "      <td>2.000000</td>\n",
       "    </tr>\n",
       "    <tr>\n",
       "      <th>1</th>\n",
       "      <td>2.000000</td>\n",
       "      <td>3.000000</td>\n",
       "      <td>2.500000</td>\n",
       "      <td>1.418595</td>\n",
       "      <td>-0.617760</td>\n",
       "      <td>0.571944</td>\n",
       "      <td>1.000000</td>\n",
       "    </tr>\n",
       "    <tr>\n",
       "      <th>2</th>\n",
       "      <td>2.500000</td>\n",
       "      <td>3.000000</td>\n",
       "      <td>2.750000</td>\n",
       "      <td>0.571944</td>\n",
       "      <td>-0.617760</td>\n",
       "      <td>0.007072</td>\n",
       "      <td>0.500000</td>\n",
       "    </tr>\n",
       "    <tr>\n",
       "      <th>3</th>\n",
       "      <td>2.750000</td>\n",
       "      <td>3.000000</td>\n",
       "      <td>2.875000</td>\n",
       "      <td>0.007072</td>\n",
       "      <td>-0.617760</td>\n",
       "      <td>-0.299671</td>\n",
       "      <td>0.250000</td>\n",
       "    </tr>\n",
       "    <tr>\n",
       "      <th>4</th>\n",
       "      <td>2.750000</td>\n",
       "      <td>2.875000</td>\n",
       "      <td>2.812500</td>\n",
       "      <td>0.007072</td>\n",
       "      <td>-0.299671</td>\n",
       "      <td>-0.144647</td>\n",
       "      <td>0.125000</td>\n",
       "    </tr>\n",
       "    <tr>\n",
       "      <th>5</th>\n",
       "      <td>2.750000</td>\n",
       "      <td>2.812500</td>\n",
       "      <td>2.781250</td>\n",
       "      <td>0.007072</td>\n",
       "      <td>-0.144647</td>\n",
       "      <td>-0.068345</td>\n",
       "      <td>0.062500</td>\n",
       "    </tr>\n",
       "    <tr>\n",
       "      <th>6</th>\n",
       "      <td>2.750000</td>\n",
       "      <td>2.781250</td>\n",
       "      <td>2.765625</td>\n",
       "      <td>0.007072</td>\n",
       "      <td>-0.068345</td>\n",
       "      <td>-0.030523</td>\n",
       "      <td>0.031250</td>\n",
       "    </tr>\n",
       "    <tr>\n",
       "      <th>7</th>\n",
       "      <td>2.750000</td>\n",
       "      <td>2.765625</td>\n",
       "      <td>2.757812</td>\n",
       "      <td>0.007072</td>\n",
       "      <td>-0.030523</td>\n",
       "      <td>-0.011696</td>\n",
       "      <td>0.015625</td>\n",
       "    </tr>\n",
       "    <tr>\n",
       "      <th>8</th>\n",
       "      <td>2.750000</td>\n",
       "      <td>2.757812</td>\n",
       "      <td>2.753906</td>\n",
       "      <td>0.007072</td>\n",
       "      <td>-0.011696</td>\n",
       "      <td>-0.002305</td>\n",
       "      <td>0.007812</td>\n",
       "    </tr>\n",
       "    <tr>\n",
       "      <th>9</th>\n",
       "      <td>2.750000</td>\n",
       "      <td>2.753906</td>\n",
       "      <td>2.751953</td>\n",
       "      <td>0.007072</td>\n",
       "      <td>-0.002305</td>\n",
       "      <td>0.002385</td>\n",
       "      <td>0.003906</td>\n",
       "    </tr>\n",
       "    <tr>\n",
       "      <th>10</th>\n",
       "      <td>2.751953</td>\n",
       "      <td>2.753906</td>\n",
       "      <td>2.752930</td>\n",
       "      <td>0.002385</td>\n",
       "      <td>-0.002305</td>\n",
       "      <td>0.000041</td>\n",
       "      <td>0.001953</td>\n",
       "    </tr>\n",
       "    <tr>\n",
       "      <th>11</th>\n",
       "      <td>2.752930</td>\n",
       "      <td>2.753906</td>\n",
       "      <td>2.753418</td>\n",
       "      <td>0.000041</td>\n",
       "      <td>-0.002305</td>\n",
       "      <td>-0.001132</td>\n",
       "      <td>0.000977</td>\n",
       "    </tr>\n",
       "    <tr>\n",
       "      <th>12</th>\n",
       "      <td>2.752930</td>\n",
       "      <td>2.753418</td>\n",
       "      <td>2.753174</td>\n",
       "      <td>0.000041</td>\n",
       "      <td>-0.001132</td>\n",
       "      <td>-0.000546</td>\n",
       "      <td>0.000488</td>\n",
       "    </tr>\n",
       "    <tr>\n",
       "      <th>13</th>\n",
       "      <td>2.752930</td>\n",
       "      <td>2.753174</td>\n",
       "      <td>2.753052</td>\n",
       "      <td>0.000041</td>\n",
       "      <td>-0.000546</td>\n",
       "      <td>-0.000252</td>\n",
       "      <td>0.000244</td>\n",
       "    </tr>\n",
       "    <tr>\n",
       "      <th>14</th>\n",
       "      <td>2.752930</td>\n",
       "      <td>2.753052</td>\n",
       "      <td>2.752991</td>\n",
       "      <td>0.000041</td>\n",
       "      <td>-0.000252</td>\n",
       "      <td>-0.000106</td>\n",
       "      <td>0.000122</td>\n",
       "    </tr>\n",
       "    <tr>\n",
       "      <th>15</th>\n",
       "      <td>2.752930</td>\n",
       "      <td>2.752991</td>\n",
       "      <td>2.752960</td>\n",
       "      <td>0.000041</td>\n",
       "      <td>-0.000106</td>\n",
       "      <td>-0.000033</td>\n",
       "      <td>0.000061</td>\n",
       "    </tr>\n",
       "    <tr>\n",
       "      <th>16</th>\n",
       "      <td>2.752930</td>\n",
       "      <td>2.752960</td>\n",
       "      <td>2.752945</td>\n",
       "      <td>0.000041</td>\n",
       "      <td>-0.000033</td>\n",
       "      <td>0.000004</td>\n",
       "      <td>0.000031</td>\n",
       "    </tr>\n",
       "    <tr>\n",
       "      <th>17</th>\n",
       "      <td>2.752945</td>\n",
       "      <td>2.752960</td>\n",
       "      <td>2.752953</td>\n",
       "      <td>0.000004</td>\n",
       "      <td>-0.000033</td>\n",
       "      <td>-0.000014</td>\n",
       "      <td>0.000015</td>\n",
       "    </tr>\n",
       "    <tr>\n",
       "      <th>18</th>\n",
       "      <td>2.752945</td>\n",
       "      <td>2.752953</td>\n",
       "      <td>2.752949</td>\n",
       "      <td>0.000004</td>\n",
       "      <td>-0.000014</td>\n",
       "      <td>-0.000005</td>\n",
       "      <td>0.000008</td>\n",
       "    </tr>\n",
       "  </tbody>\n",
       "</table>\n",
       "</div>\n",
       "    <div class=\"colab-df-buttons\">\n",
       "\n",
       "  <div class=\"colab-df-container\">\n",
       "    <button class=\"colab-df-convert\" onclick=\"convertToInteractive('df-3b08d00a-935f-480d-9e9d-f91293b78961')\"\n",
       "            title=\"Convert this dataframe to an interactive table.\"\n",
       "            style=\"display:none;\">\n",
       "\n",
       "  <svg xmlns=\"http://www.w3.org/2000/svg\" height=\"24px\" viewBox=\"0 -960 960 960\">\n",
       "    <path d=\"M120-120v-720h720v720H120Zm60-500h600v-160H180v160Zm220 220h160v-160H400v160Zm0 220h160v-160H400v160ZM180-400h160v-160H180v160Zm440 0h160v-160H620v160ZM180-180h160v-160H180v160Zm440 0h160v-160H620v160Z\"/>\n",
       "  </svg>\n",
       "    </button>\n",
       "\n",
       "  <style>\n",
       "    .colab-df-container {\n",
       "      display:flex;\n",
       "      gap: 12px;\n",
       "    }\n",
       "\n",
       "    .colab-df-convert {\n",
       "      background-color: #E8F0FE;\n",
       "      border: none;\n",
       "      border-radius: 50%;\n",
       "      cursor: pointer;\n",
       "      display: none;\n",
       "      fill: #1967D2;\n",
       "      height: 32px;\n",
       "      padding: 0 0 0 0;\n",
       "      width: 32px;\n",
       "    }\n",
       "\n",
       "    .colab-df-convert:hover {\n",
       "      background-color: #E2EBFA;\n",
       "      box-shadow: 0px 1px 2px rgba(60, 64, 67, 0.3), 0px 1px 3px 1px rgba(60, 64, 67, 0.15);\n",
       "      fill: #174EA6;\n",
       "    }\n",
       "\n",
       "    .colab-df-buttons div {\n",
       "      margin-bottom: 4px;\n",
       "    }\n",
       "\n",
       "    [theme=dark] .colab-df-convert {\n",
       "      background-color: #3B4455;\n",
       "      fill: #D2E3FC;\n",
       "    }\n",
       "\n",
       "    [theme=dark] .colab-df-convert:hover {\n",
       "      background-color: #434B5C;\n",
       "      box-shadow: 0px 1px 3px 1px rgba(0, 0, 0, 0.15);\n",
       "      filter: drop-shadow(0px 1px 2px rgba(0, 0, 0, 0.3));\n",
       "      fill: #FFFFFF;\n",
       "    }\n",
       "  </style>\n",
       "\n",
       "    <script>\n",
       "      const buttonEl =\n",
       "        document.querySelector('#df-3b08d00a-935f-480d-9e9d-f91293b78961 button.colab-df-convert');\n",
       "      buttonEl.style.display =\n",
       "        google.colab.kernel.accessAllowed ? 'block' : 'none';\n",
       "\n",
       "      async function convertToInteractive(key) {\n",
       "        const element = document.querySelector('#df-3b08d00a-935f-480d-9e9d-f91293b78961');\n",
       "        const dataTable =\n",
       "          await google.colab.kernel.invokeFunction('convertToInteractive',\n",
       "                                                    [key], {});\n",
       "        if (!dataTable) return;\n",
       "\n",
       "        const docLinkHtml = 'Like what you see? Visit the ' +\n",
       "          '<a target=\"_blank\" href=https://colab.research.google.com/notebooks/data_table.ipynb>data table notebook</a>'\n",
       "          + ' to learn more about interactive tables.';\n",
       "        element.innerHTML = '';\n",
       "        dataTable['output_type'] = 'display_data';\n",
       "        await google.colab.output.renderOutput(dataTable, element);\n",
       "        const docLink = document.createElement('div');\n",
       "        docLink.innerHTML = docLinkHtml;\n",
       "        element.appendChild(docLink);\n",
       "      }\n",
       "    </script>\n",
       "  </div>\n",
       "\n",
       "\n",
       "<div id=\"df-38ebda26-dd0c-4d90-b32f-b3ff0710254c\">\n",
       "  <button class=\"colab-df-quickchart\" onclick=\"quickchart('df-38ebda26-dd0c-4d90-b32f-b3ff0710254c')\"\n",
       "            title=\"Suggest charts\"\n",
       "            style=\"display:none;\">\n",
       "\n",
       "<svg xmlns=\"http://www.w3.org/2000/svg\" height=\"24px\"viewBox=\"0 0 24 24\"\n",
       "     width=\"24px\">\n",
       "    <g>\n",
       "        <path d=\"M19 3H5c-1.1 0-2 .9-2 2v14c0 1.1.9 2 2 2h14c1.1 0 2-.9 2-2V5c0-1.1-.9-2-2-2zM9 17H7v-7h2v7zm4 0h-2V7h2v10zm4 0h-2v-4h2v4z\"/>\n",
       "    </g>\n",
       "</svg>\n",
       "  </button>\n",
       "\n",
       "<style>\n",
       "  .colab-df-quickchart {\n",
       "      --bg-color: #E8F0FE;\n",
       "      --fill-color: #1967D2;\n",
       "      --hover-bg-color: #E2EBFA;\n",
       "      --hover-fill-color: #174EA6;\n",
       "      --disabled-fill-color: #AAA;\n",
       "      --disabled-bg-color: #DDD;\n",
       "  }\n",
       "\n",
       "  [theme=dark] .colab-df-quickchart {\n",
       "      --bg-color: #3B4455;\n",
       "      --fill-color: #D2E3FC;\n",
       "      --hover-bg-color: #434B5C;\n",
       "      --hover-fill-color: #FFFFFF;\n",
       "      --disabled-bg-color: #3B4455;\n",
       "      --disabled-fill-color: #666;\n",
       "  }\n",
       "\n",
       "  .colab-df-quickchart {\n",
       "    background-color: var(--bg-color);\n",
       "    border: none;\n",
       "    border-radius: 50%;\n",
       "    cursor: pointer;\n",
       "    display: none;\n",
       "    fill: var(--fill-color);\n",
       "    height: 32px;\n",
       "    padding: 0;\n",
       "    width: 32px;\n",
       "  }\n",
       "\n",
       "  .colab-df-quickchart:hover {\n",
       "    background-color: var(--hover-bg-color);\n",
       "    box-shadow: 0 1px 2px rgba(60, 64, 67, 0.3), 0 1px 3px 1px rgba(60, 64, 67, 0.15);\n",
       "    fill: var(--button-hover-fill-color);\n",
       "  }\n",
       "\n",
       "  .colab-df-quickchart-complete:disabled,\n",
       "  .colab-df-quickchart-complete:disabled:hover {\n",
       "    background-color: var(--disabled-bg-color);\n",
       "    fill: var(--disabled-fill-color);\n",
       "    box-shadow: none;\n",
       "  }\n",
       "\n",
       "  .colab-df-spinner {\n",
       "    border: 2px solid var(--fill-color);\n",
       "    border-color: transparent;\n",
       "    border-bottom-color: var(--fill-color);\n",
       "    animation:\n",
       "      spin 1s steps(1) infinite;\n",
       "  }\n",
       "\n",
       "  @keyframes spin {\n",
       "    0% {\n",
       "      border-color: transparent;\n",
       "      border-bottom-color: var(--fill-color);\n",
       "      border-left-color: var(--fill-color);\n",
       "    }\n",
       "    20% {\n",
       "      border-color: transparent;\n",
       "      border-left-color: var(--fill-color);\n",
       "      border-top-color: var(--fill-color);\n",
       "    }\n",
       "    30% {\n",
       "      border-color: transparent;\n",
       "      border-left-color: var(--fill-color);\n",
       "      border-top-color: var(--fill-color);\n",
       "      border-right-color: var(--fill-color);\n",
       "    }\n",
       "    40% {\n",
       "      border-color: transparent;\n",
       "      border-right-color: var(--fill-color);\n",
       "      border-top-color: var(--fill-color);\n",
       "    }\n",
       "    60% {\n",
       "      border-color: transparent;\n",
       "      border-right-color: var(--fill-color);\n",
       "    }\n",
       "    80% {\n",
       "      border-color: transparent;\n",
       "      border-right-color: var(--fill-color);\n",
       "      border-bottom-color: var(--fill-color);\n",
       "    }\n",
       "    90% {\n",
       "      border-color: transparent;\n",
       "      border-bottom-color: var(--fill-color);\n",
       "    }\n",
       "  }\n",
       "</style>\n",
       "\n",
       "  <script>\n",
       "    async function quickchart(key) {\n",
       "      const quickchartButtonEl =\n",
       "        document.querySelector('#' + key + ' button');\n",
       "      quickchartButtonEl.disabled = true;  // To prevent multiple clicks.\n",
       "      quickchartButtonEl.classList.add('colab-df-spinner');\n",
       "      try {\n",
       "        const charts = await google.colab.kernel.invokeFunction(\n",
       "            'suggestCharts', [key], {});\n",
       "      } catch (error) {\n",
       "        console.error('Error during call to suggestCharts:', error);\n",
       "      }\n",
       "      quickchartButtonEl.classList.remove('colab-df-spinner');\n",
       "      quickchartButtonEl.classList.add('colab-df-quickchart-complete');\n",
       "    }\n",
       "    (() => {\n",
       "      let quickchartButtonEl =\n",
       "        document.querySelector('#df-38ebda26-dd0c-4d90-b32f-b3ff0710254c button');\n",
       "      quickchartButtonEl.style.display =\n",
       "        google.colab.kernel.accessAllowed ? 'block' : 'none';\n",
       "    })();\n",
       "  </script>\n",
       "</div>\n",
       "\n",
       "  <div id=\"id_f3771c31-af0c-4b76-9976-572c1ce6ddcc\">\n",
       "    <style>\n",
       "      .colab-df-generate {\n",
       "        background-color: #E8F0FE;\n",
       "        border: none;\n",
       "        border-radius: 50%;\n",
       "        cursor: pointer;\n",
       "        display: none;\n",
       "        fill: #1967D2;\n",
       "        height: 32px;\n",
       "        padding: 0 0 0 0;\n",
       "        width: 32px;\n",
       "      }\n",
       "\n",
       "      .colab-df-generate:hover {\n",
       "        background-color: #E2EBFA;\n",
       "        box-shadow: 0px 1px 2px rgba(60, 64, 67, 0.3), 0px 1px 3px 1px rgba(60, 64, 67, 0.15);\n",
       "        fill: #174EA6;\n",
       "      }\n",
       "\n",
       "      [theme=dark] .colab-df-generate {\n",
       "        background-color: #3B4455;\n",
       "        fill: #D2E3FC;\n",
       "      }\n",
       "\n",
       "      [theme=dark] .colab-df-generate:hover {\n",
       "        background-color: #434B5C;\n",
       "        box-shadow: 0px 1px 3px 1px rgba(0, 0, 0, 0.15);\n",
       "        filter: drop-shadow(0px 1px 2px rgba(0, 0, 0, 0.3));\n",
       "        fill: #FFFFFF;\n",
       "      }\n",
       "    </style>\n",
       "    <button class=\"colab-df-generate\" onclick=\"generateWithVariable('results')\"\n",
       "            title=\"Generate code using this dataframe.\"\n",
       "            style=\"display:none;\">\n",
       "\n",
       "  <svg xmlns=\"http://www.w3.org/2000/svg\" height=\"24px\"viewBox=\"0 0 24 24\"\n",
       "       width=\"24px\">\n",
       "    <path d=\"M7,19H8.4L18.45,9,17,7.55,7,17.6ZM5,21V16.75L18.45,3.32a2,2,0,0,1,2.83,0l1.4,1.43a1.91,1.91,0,0,1,.58,1.4,1.91,1.91,0,0,1-.58,1.4L9.25,21ZM18.45,9,17,7.55Zm-12,3A5.31,5.31,0,0,0,4.9,8.1,5.31,5.31,0,0,0,1,6.5,5.31,5.31,0,0,0,4.9,4.9,5.31,5.31,0,0,0,6.5,1,5.31,5.31,0,0,0,8.1,4.9,5.31,5.31,0,0,0,12,6.5,5.46,5.46,0,0,0,6.5,12Z\"/>\n",
       "  </svg>\n",
       "    </button>\n",
       "    <script>\n",
       "      (() => {\n",
       "      const buttonEl =\n",
       "        document.querySelector('#id_f3771c31-af0c-4b76-9976-572c1ce6ddcc button.colab-df-generate');\n",
       "      buttonEl.style.display =\n",
       "        google.colab.kernel.accessAllowed ? 'block' : 'none';\n",
       "\n",
       "      buttonEl.onclick = () => {\n",
       "        google.colab.notebook.generateWithVariable('results');\n",
       "      }\n",
       "      })();\n",
       "    </script>\n",
       "  </div>\n",
       "\n",
       "    </div>\n",
       "  </div>\n"
      ],
      "text/plain": [
       "                 xl        xu        xr     f(xl)     f(xu)     f(xr)  \\\n",
       "Iteración                                                               \n",
       "0          1.000000  3.000000  2.000000  1.582942 -0.617760  1.418595   \n",
       "1          2.000000  3.000000  2.500000  1.418595 -0.617760  0.571944   \n",
       "2          2.500000  3.000000  2.750000  0.571944 -0.617760  0.007072   \n",
       "3          2.750000  3.000000  2.875000  0.007072 -0.617760 -0.299671   \n",
       "4          2.750000  2.875000  2.812500  0.007072 -0.299671 -0.144647   \n",
       "5          2.750000  2.812500  2.781250  0.007072 -0.144647 -0.068345   \n",
       "6          2.750000  2.781250  2.765625  0.007072 -0.068345 -0.030523   \n",
       "7          2.750000  2.765625  2.757812  0.007072 -0.030523 -0.011696   \n",
       "8          2.750000  2.757812  2.753906  0.007072 -0.011696 -0.002305   \n",
       "9          2.750000  2.753906  2.751953  0.007072 -0.002305  0.002385   \n",
       "10         2.751953  2.753906  2.752930  0.002385 -0.002305  0.000041   \n",
       "11         2.752930  2.753906  2.753418  0.000041 -0.002305 -0.001132   \n",
       "12         2.752930  2.753418  2.753174  0.000041 -0.001132 -0.000546   \n",
       "13         2.752930  2.753174  2.753052  0.000041 -0.000546 -0.000252   \n",
       "14         2.752930  2.753052  2.752991  0.000041 -0.000252 -0.000106   \n",
       "15         2.752930  2.752991  2.752960  0.000041 -0.000106 -0.000033   \n",
       "16         2.752930  2.752960  2.752945  0.000041 -0.000033  0.000004   \n",
       "17         2.752945  2.752960  2.752953  0.000004 -0.000033 -0.000014   \n",
       "18         2.752945  2.752953  2.752949  0.000004 -0.000014 -0.000005   \n",
       "\n",
       "              Error  \n",
       "Iteración            \n",
       "0          2.000000  \n",
       "1          1.000000  \n",
       "2          0.500000  \n",
       "3          0.250000  \n",
       "4          0.125000  \n",
       "5          0.062500  \n",
       "6          0.031250  \n",
       "7          0.015625  \n",
       "8          0.007812  \n",
       "9          0.003906  \n",
       "10         0.001953  \n",
       "11         0.000977  \n",
       "12         0.000488  \n",
       "13         0.000244  \n",
       "14         0.000122  \n",
       "15         0.000061  \n",
       "16         0.000031  \n",
       "17         0.000015  \n",
       "18         0.000008  "
      ]
     },
     "execution_count": 9,
     "metadata": {},
     "output_type": "execute_result"
    }
   ],
   "source": [
    "results = pd.DataFrame(data=df,columns=['Iteración','xl','xu','xr','f(xl)','f(xu)','f(xr)','Error']).set_index('Iteración')\n",
    "results"
   ]
  },
  {
   "cell_type": "code",
   "execution_count": null,
   "metadata": {
    "colab": {
     "base_uri": "https://localhost:8080/",
     "height": 472
    },
    "executionInfo": {
     "elapsed": 608,
     "status": "ok",
     "timestamp": 1743778066164,
     "user": {
      "displayName": "EFRAÍN GARC�A VALENCIA",
      "userId": "07090753714787850374"
     },
     "user_tz": 300
    },
    "id": "G49B39IvG9zb",
    "outputId": "c0dccc7f-d263-4561-ff8f-d3f63727919e"
   },
   "outputs": [
    {
     "data": {
      "image/png": "[encoded data removed]",
      "text/plain": [
       "<Figure size 640x480 with 1 Axes>"
      ]
     },
     "metadata": {},
     "output_type": "display_data"
    }
   ],
   "source": [
    "plt.plot(results.index, results[\"Error\"])\n",
    "plt.xlabel(\"Iteración\")\n",
    "plt.ylabel(\"Error\")\n",
    "plt.title(\"Error en cada iteración\")\n",
    "plt.grid(True)\n",
    "plt.show()"
   ]
  },
  {
   "cell_type": "code",
   "execution_count": null,
   "metadata": {
    "id": "lWcDfyKyzhZQ"
   },
   "outputs": [],
   "source": []
  }
 ],
 "metadata": {
  "colab": {
   "provenance": []
  },
  "kernelspec": {
   "display_name": "Python [conda env:base] *",
   "language": "python",
   "name": "conda-base-py"
  },
  "language_info": {
   "codemirror_mode": {
    "name": "ipython",
    "version": 3
   },
   "file_extension": ".py",
   "mimetype": "text/x-python",
   "name": "python",
   "nbconvert_exporter": "python",
   "pygments_lexer": "ipython3",
   "version": "3.13.5"
  }
 },
 "nbformat": 4,
 "nbformat_minor": 4
}
