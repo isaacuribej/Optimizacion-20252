{
 "cells": [
  {
   "cell_type": "markdown",
   "metadata": {
    "id": "D5IF3-P6lcls"
   },
   "source": [
    "# **Método de la Falsa posición**\n",
    "Isaac Esteban Uribe Jaramillo\n"
   ]
  },
  {
   "cell_type": "markdown",
   "metadata": {
    "id": "erw2OfKgBO6e"
   },
   "source": [
    "## **1. Importamos librerías**"
   ]
  },
  {
   "cell_type": "code",
   "execution_count": 1,
   "metadata": {
    "id": "q3lR0v46gMTQ"
   },
   "outputs": [],
   "source": [
    "import numpy as np\n",
    "import matplotlib.pyplot as plt\n",
    "import pandas as pd"
   ]
  },
  {
   "cell_type": "markdown",
   "metadata": {
    "id": "XwCOWfmLBU-i"
   },
   "source": [
    "## **2. Inicialización y pre-procesamiento**"
   ]
  },
  {
   "cell_type": "markdown",
   "metadata": {
    "id": "lFEVqBUoJHNf"
   },
   "source": [
    "### 2.1 Definimos la función y su gráfica"
   ]
  },
  {
   "cell_type": "code",
   "execution_count": 2,
   "metadata": {
    "id": "XMhL8wfYJZNA"
   },
   "outputs": [],
   "source": [
    "fx  = lambda x: 2*np.sin(x)-(x**2/10)"
   ]
  },
  {
   "cell_type": "code",
   "execution_count": 3,
   "metadata": {
    "colab": {
     "base_uri": "https://localhost:8080/",
     "height": 472
    },
    "executionInfo": {
     "elapsed": 954,
     "status": "ok",
     "timestamp": 1743778264162,
     "user": {
      "displayName": "EFRAÍN GARC�A VALENCIA",
      "userId": "07090753714787850374"
     },
     "user_tz": 300
    },
    "id": "gQMbNymnNhIh",
    "outputId": "56a3c7ac-6612-4c3a-bec1-9ece9d47dc87"
   },
   "outputs": [
    {
     "data": {
      "image/png": "[encoded data removed]",
      "text/plain": [
       "<Figure size 640x480 with 1 Axes>"
      ]
     },
     "metadata": {},
     "output_type": "display_data"
    }
   ],
   "source": [
    "x = np.linspace(-3, 3, 100)\n",
    "y = fx(x)\n",
    "plt.plot(x, y)\n",
    "plt.xlabel('x')\n",
    "plt.ylabel('f(x)')\n",
    "plt.title('Graph of f(x)')\n",
    "plt.grid(True)\n",
    "plt.show()"
   ]
  },
  {
   "cell_type": "markdown",
   "metadata": {
    "id": "RoH5PADoJLpo"
   },
   "source": [
    "### 2.2 Seleccionamos valores iniciales para Xl, Xu, Err"
   ]
  },
  {
   "cell_type": "code",
   "execution_count": null,
   "metadata": {
    "id": "uPe33o01gYkG"
   },
   "outputs": [],
   "source": [
    "xl, xu = 1, 3\n",
    "# xl, xu = -2, 2\n",
    "err = 0.000001"
   ]
  },
  {
   "cell_type": "markdown",
   "metadata": {
    "id": "aWHAKefMJ5xH"
   },
   "source": [
    "### 2.3 Inicializamos el Dataframe"
   ]
  },
  {
   "cell_type": "code",
   "execution_count": null,
   "metadata": {
    "id": "GpeaI3CqFXHV"
   },
   "outputs": [],
   "source": [
    "df = []"
   ]
  },
  {
   "cell_type": "markdown",
   "metadata": {
    "id": "r4pjtZJJJ9XP"
   },
   "source": [
    "### 2.4 Determinamos cuantas iteraciones necesitamos para llegar a la convergencia"
   ]
  },
  {
   "cell_type": "code",
   "execution_count": null,
   "metadata": {
    "id": "uy3IxjJTIfe1"
   },
   "outputs": [],
   "source": [
    "def iteracionesMaximas(xl,xu,err):\n",
    "  return int(np.log2((xu - xl) / err) - 1)"
   ]
  },
  {
   "cell_type": "markdown",
   "metadata": {
    "id": "dbFYSi4uEu9V"
   },
   "source": [
    "## **3. Algorítmo de la Falsa Posición**"
   ]
  },
  {
   "cell_type": "code",
   "execution_count": null,
   "metadata": {
    "id": "KCM5Ua_r2-kU"
   },
   "outputs": [],
   "source": [
    "def falsaPosicion(fx,xlower,xupper,err,i_max):\n",
    "  '''\n",
    "\n",
    "  '''\n",
    "  f_xl, f_xu = fx(xlower), fx(xupper)\n",
    "  if not f_xl * f_xu < 0:\n",
    "    print(\"La ecuación no tiene una raiz en el intervalo dado\")\n",
    "    return None\n",
    "  for i in range(i_max):\n",
    "    f_xl, f_xu = fx(xlower), fx(xupper)\n",
    "    xroot = xupper - (((f_xu * (xlower - xupper)) / (f_xl - f_xu)))\n",
    "    f_xr = fx(xroot)\n",
    "    error = abs(xupper - xlower)\n",
    "    df.append([i,xlower,xupper,xroot,f_xl,f_xu,f_xr,error])\n",
    "    if error < err:\n",
    "      return xroot\n",
    "    if f_xr * f_xl < 0:\n",
    "      xupper = xroot\n",
    "    elif f_xr * f_xu < 0:\n",
    "      xlower = xroot\n",
    "    elif f_xr == 0:\n",
    "      return xroot\n",
    "  return xroot"
   ]
  },
  {
   "cell_type": "markdown",
   "metadata": {
    "id": "XwJNYUwzK9eI"
   },
   "source": [
    "## **4. Obtención de resultados**"
   ]
  },
  {
   "cell_type": "code",
   "execution_count": null,
   "metadata": {
    "colab": {
     "base_uri": "https://localhost:8080/"
    },
    "executionInfo": {
     "elapsed": 10,
     "status": "ok",
     "timestamp": 1743778264203,
     "user": {
      "displayName": "EFRAÍN GARC�A VALENCIA",
      "userId": "07090753714787850374"
     },
     "user_tz": 300
    },
    "id": "O2Fij55Gg6Zb",
    "outputId": "2904cd78-d431-4d84-ace9-f065f2ab0419"
   },
   "outputs": [
    {
     "name": "stdout",
     "output_type": "stream",
     "text": [
      "Iteraciones máximas:  19\n",
      "La raíz se encuentra aproximadamente en:  2.7529466338187047\n"
     ]
    }
   ],
   "source": [
    "itermax = iteracionesMaximas(xl,xu,err)\n",
    "print(\"Iteraciones máximas: \", itermax)\n",
    "r = falsaPosicion(fx,xl,xu,err,itermax)\n",
    "print(\"La raíz se encuentra aproximadamente en: \", r)"
   ]
  },
  {
   "cell_type": "code",
   "execution_count": null,
   "metadata": {
    "colab": {
     "base_uri": "https://localhost:8080/",
     "height": 676
    },
    "executionInfo": {
     "elapsed": 210,
     "status": "ok",
     "timestamp": 1743778264415,
     "user": {
      "displayName": "EFRAÍN GARC�A VALENCIA",
      "userId": "07090753714787850374"
     },
     "user_tz": 300
    },
    "id": "ChpZfHteD4xe",
    "outputId": "2ac285ba-af52-4740-f397-b5e8f612aa26"
   },
   "outputs": [
    {
     "data": {
      "application/vnd.google.colaboratory.intrinsic+json": {
       "summary": "{\n  \"name\": \"results\",\n  \"rows\": 19,\n  \"fields\": [\n    {\n      \"column\": \"Iteraci\\u00f3n\",\n      \"properties\": {\n        \"dtype\": \"number\",\n        \"std\": 5,\n        \"min\": 0,\n        \"max\": 18,\n        \"num_unique_values\": 19,\n        \"samples\": [\n          0,\n          5,\n          11\n        ],\n        \"semantic_type\": \"\",\n        \"description\": \"\"\n      }\n    },\n    {\n      \"column\": \"xl\",\n      \"properties\": {\n        \"dtype\": \"number\",\n        \"std\": 0.4043675311518818,\n        \"min\": 1.0,\n        \"max\": 2.7529466338187047,\n        \"num_unique_values\": 13,\n        \"samples\": [\n          2.7529466338187008,\n          2.7529466338161397,\n          1.0\n        ],\n        \"semantic_type\": \"\",\n        \"description\": \"\"\n      }\n    },\n    {\n      \"column\": \"xu\",\n      \"properties\": {\n        \"dtype\": \"number\",\n        \"std\": 0,\n        \"min\": 3,\n        \"max\": 3,\n        \"num_unique_values\": 1,\n        \"samples\": [\n          3\n        ],\n        \"semantic_type\": \"\",\n        \"description\": \"\"\n      }\n    },\n    {\n      \"column\": \"xr\",\n      \"properties\": {\n        \"dtype\": \"number\",\n        \"std\": 0.07200072207102363,\n        \"min\": 2.4385791470772444,\n        \"max\": 2.7529466338187047,\n        \"num_unique_values\": 12,\n        \"samples\": [\n          2.7529466338187008\n        ],\n        \"semantic_type\": \"\",\n        \"description\": \"\"\n      }\n    },\n    {\n      \"column\": \"f(xl)\",\n      \"properties\": {\n        \"dtype\": \"number\",\n        \"std\": 0.38809504908828335,\n        \"min\": 4.440892098500626e-16,\n        \"max\": 1.582941969615793,\n        \"num_unique_values\": 13,\n        \"samples\": [\n          9.992007221626409e-15\n        ],\n        \"semantic_type\": \"\",\n        \"description\": \"\"\n      }\n    },\n    {\n      \"column\": \"f(xu)\",\n      \"properties\": {\n        \"dtype\": \"number\",\n        \"std\": 0.0,\n        \"min\": -0.6177599838802657,\n        \"max\": -0.6177599838802657,\n        \"num_unique_values\": 1,\n        \"samples\": [\n          -0.6177599838802657\n        ],\n        \"semantic_type\": \"\",\n        \"description\": \"\"\n      }\n    },\n    {\n      \"column\": \"f(xr)\",\n      \"properties\": {\n        \"dtype\": \"number\",\n        \"std\": 0.1599483129061718,\n        \"min\": 4.440892098500626e-16,\n        \"max\": 0.6983724053882374,\n        \"num_unique_values\": 12,\n        \"samples\": [\n          9.992007221626409e-15\n        ],\n        \"semantic_type\": \"\",\n        \"description\": \"\"\n      }\n    },\n    {\n      \"column\": \"Error\",\n      \"properties\": {\n        \"dtype\": \"number\",\n        \"std\": 0.4043675311518818,\n        \"min\": 0.24705336618129525,\n        \"max\": 2.0,\n        \"num_unique_values\": 13,\n        \"samples\": [\n          0.24705336618129925\n        ],\n        \"semantic_type\": \"\",\n        \"description\": \"\"\n      }\n    }\n  ]\n}",
       "type": "dataframe",
       "variable_name": "results"
      },
      "text/html": [
       "\n",
       "  <div id=\"df-c0a49ea9-7b2c-4fd0-aa0a-cf8688337c39\" class=\"colab-df-container\">\n",
       "    <div>\n",
       "<style scoped>\n",
       "    .dataframe tbody tr th:only-of-type {\n",
       "        vertical-align: middle;\n",
       "    }\n",
       "\n",
       "    .dataframe tbody tr th {\n",
       "        vertical-align: top;\n",
       "    }\n",
       "\n",
       "    .dataframe thead th {\n",
       "        text-align: right;\n",
       "    }\n",
       "</style>\n",
       "<table border=\"1\" class=\"dataframe\">\n",
       "  <thead>\n",
       "    <tr style=\"text-align: right;\">\n",
       "      <th></th>\n",
       "      <th>xl</th>\n",
       "      <th>xu</th>\n",
       "      <th>xr</th>\n",
       "      <th>f(xl)</th>\n",
       "      <th>f(xu)</th>\n",
       "      <th>f(xr)</th>\n",
       "      <th>Error</th>\n",
       "    </tr>\n",
       "    <tr>\n",
       "      <th>Iteración</th>\n",
       "      <th></th>\n",
       "      <th></th>\n",
       "      <th></th>\n",
       "      <th></th>\n",
       "      <th></th>\n",
       "      <th></th>\n",
       "      <th></th>\n",
       "    </tr>\n",
       "  </thead>\n",
       "  <tbody>\n",
       "    <tr>\n",
       "      <th>0</th>\n",
       "      <td>1.000000</td>\n",
       "      <td>3</td>\n",
       "      <td>2.438579</td>\n",
       "      <td>1.582942e+00</td>\n",
       "      <td>-0.61776</td>\n",
       "      <td>6.983724e-01</td>\n",
       "      <td>2.000000</td>\n",
       "    </tr>\n",
       "    <tr>\n",
       "      <th>1</th>\n",
       "      <td>2.438579</td>\n",
       "      <td>3</td>\n",
       "      <td>2.736483</td>\n",
       "      <td>6.983724e-01</td>\n",
       "      <td>-0.61776</td>\n",
       "      <td>3.940530e-02</td>\n",
       "      <td>0.561421</td>\n",
       "    </tr>\n",
       "    <tr>\n",
       "      <th>2</th>\n",
       "      <td>2.736483</td>\n",
       "      <td>3</td>\n",
       "      <td>2.752284</td>\n",
       "      <td>3.940530e-02</td>\n",
       "      <td>-0.61776</td>\n",
       "      <td>1.590836e-03</td>\n",
       "      <td>0.263517</td>\n",
       "    </tr>\n",
       "    <tr>\n",
       "      <th>3</th>\n",
       "      <td>2.752284</td>\n",
       "      <td>3</td>\n",
       "      <td>2.752920</td>\n",
       "      <td>1.590836e-03</td>\n",
       "      <td>-0.61776</td>\n",
       "      <td>6.308077e-05</td>\n",
       "      <td>0.247716</td>\n",
       "    </tr>\n",
       "    <tr>\n",
       "      <th>4</th>\n",
       "      <td>2.752920</td>\n",
       "      <td>3</td>\n",
       "      <td>2.752946</td>\n",
       "      <td>6.308077e-05</td>\n",
       "      <td>-0.61776</td>\n",
       "      <td>2.499504e-06</td>\n",
       "      <td>0.247080</td>\n",
       "    </tr>\n",
       "    <tr>\n",
       "      <th>5</th>\n",
       "      <td>2.752946</td>\n",
       "      <td>3</td>\n",
       "      <td>2.752947</td>\n",
       "      <td>2.499504e-06</td>\n",
       "      <td>-0.61776</td>\n",
       "      <td>9.903721e-08</td>\n",
       "      <td>0.247054</td>\n",
       "    </tr>\n",
       "    <tr>\n",
       "      <th>6</th>\n",
       "      <td>2.752947</td>\n",
       "      <td>3</td>\n",
       "      <td>2.752947</td>\n",
       "      <td>9.903721e-08</td>\n",
       "      <td>-0.61776</td>\n",
       "      <td>3.924121e-09</td>\n",
       "      <td>0.247053</td>\n",
       "    </tr>\n",
       "    <tr>\n",
       "      <th>7</th>\n",
       "      <td>2.752947</td>\n",
       "      <td>3</td>\n",
       "      <td>2.752947</td>\n",
       "      <td>3.924121e-09</td>\n",
       "      <td>-0.61776</td>\n",
       "      <td>1.554837e-10</td>\n",
       "      <td>0.247053</td>\n",
       "    </tr>\n",
       "    <tr>\n",
       "      <th>8</th>\n",
       "      <td>2.752947</td>\n",
       "      <td>3</td>\n",
       "      <td>2.752947</td>\n",
       "      <td>1.554837e-10</td>\n",
       "      <td>-0.61776</td>\n",
       "      <td>6.160294e-12</td>\n",
       "      <td>0.247053</td>\n",
       "    </tr>\n",
       "    <tr>\n",
       "      <th>9</th>\n",
       "      <td>2.752947</td>\n",
       "      <td>3</td>\n",
       "      <td>2.752947</td>\n",
       "      <td>6.160294e-12</td>\n",
       "      <td>-0.61776</td>\n",
       "      <td>2.435829e-13</td>\n",
       "      <td>0.247053</td>\n",
       "    </tr>\n",
       "    <tr>\n",
       "      <th>10</th>\n",
       "      <td>2.752947</td>\n",
       "      <td>3</td>\n",
       "      <td>2.752947</td>\n",
       "      <td>2.435829e-13</td>\n",
       "      <td>-0.61776</td>\n",
       "      <td>9.992007e-15</td>\n",
       "      <td>0.247053</td>\n",
       "    </tr>\n",
       "    <tr>\n",
       "      <th>11</th>\n",
       "      <td>2.752947</td>\n",
       "      <td>3</td>\n",
       "      <td>2.752947</td>\n",
       "      <td>9.992007e-15</td>\n",
       "      <td>-0.61776</td>\n",
       "      <td>4.440892e-16</td>\n",
       "      <td>0.247053</td>\n",
       "    </tr>\n",
       "    <tr>\n",
       "      <th>12</th>\n",
       "      <td>2.752947</td>\n",
       "      <td>3</td>\n",
       "      <td>2.752947</td>\n",
       "      <td>4.440892e-16</td>\n",
       "      <td>-0.61776</td>\n",
       "      <td>4.440892e-16</td>\n",
       "      <td>0.247053</td>\n",
       "    </tr>\n",
       "    <tr>\n",
       "      <th>13</th>\n",
       "      <td>2.752947</td>\n",
       "      <td>3</td>\n",
       "      <td>2.752947</td>\n",
       "      <td>4.440892e-16</td>\n",
       "      <td>-0.61776</td>\n",
       "      <td>4.440892e-16</td>\n",
       "      <td>0.247053</td>\n",
       "    </tr>\n",
       "    <tr>\n",
       "      <th>14</th>\n",
       "      <td>2.752947</td>\n",
       "      <td>3</td>\n",
       "      <td>2.752947</td>\n",
       "      <td>4.440892e-16</td>\n",
       "      <td>-0.61776</td>\n",
       "      <td>4.440892e-16</td>\n",
       "      <td>0.247053</td>\n",
       "    </tr>\n",
       "    <tr>\n",
       "      <th>15</th>\n",
       "      <td>2.752947</td>\n",
       "      <td>3</td>\n",
       "      <td>2.752947</td>\n",
       "      <td>4.440892e-16</td>\n",
       "      <td>-0.61776</td>\n",
       "      <td>4.440892e-16</td>\n",
       "      <td>0.247053</td>\n",
       "    </tr>\n",
       "    <tr>\n",
       "      <th>16</th>\n",
       "      <td>2.752947</td>\n",
       "      <td>3</td>\n",
       "      <td>2.752947</td>\n",
       "      <td>4.440892e-16</td>\n",
       "      <td>-0.61776</td>\n",
       "      <td>4.440892e-16</td>\n",
       "      <td>0.247053</td>\n",
       "    </tr>\n",
       "    <tr>\n",
       "      <th>17</th>\n",
       "      <td>2.752947</td>\n",
       "      <td>3</td>\n",
       "      <td>2.752947</td>\n",
       "      <td>4.440892e-16</td>\n",
       "      <td>-0.61776</td>\n",
       "      <td>4.440892e-16</td>\n",
       "      <td>0.247053</td>\n",
       "    </tr>\n",
       "    <tr>\n",
       "      <th>18</th>\n",
       "      <td>2.752947</td>\n",
       "      <td>3</td>\n",
       "      <td>2.752947</td>\n",
       "      <td>4.440892e-16</td>\n",
       "      <td>-0.61776</td>\n",
       "      <td>4.440892e-16</td>\n",
       "      <td>0.247053</td>\n",
       "    </tr>\n",
       "  </tbody>\n",
       "</table>\n",
       "</div>\n",
       "    <div class=\"colab-df-buttons\">\n",
       "\n",
       "  <div class=\"colab-df-container\">\n",
       "    <button class=\"colab-df-convert\" onclick=\"convertToInteractive('df-c0a49ea9-7b2c-4fd0-aa0a-cf8688337c39')\"\n",
       "            title=\"Convert this dataframe to an interactive table.\"\n",
       "            style=\"display:none;\">\n",
       "\n",
       "  <svg xmlns=\"http://www.w3.org/2000/svg\" height=\"24px\" viewBox=\"0 -960 960 960\">\n",
       "    <path d=\"M120-120v-720h720v720H120Zm60-500h600v-160H180v160Zm220 220h160v-160H400v160Zm0 220h160v-160H400v160ZM180-400h160v-160H180v160Zm440 0h160v-160H620v160ZM180-180h160v-160H180v160Zm440 0h160v-160H620v160Z\"/>\n",
       "  </svg>\n",
       "    </button>\n",
       "\n",
       "  <style>\n",
       "    .colab-df-container {\n",
       "      display:flex;\n",
       "      gap: 12px;\n",
       "    }\n",
       "\n",
       "    .colab-df-convert {\n",
       "      background-color: #E8F0FE;\n",
       "      border: none;\n",
       "      border-radius: 50%;\n",
       "      cursor: pointer;\n",
       "      display: none;\n",
       "      fill: #1967D2;\n",
       "      height: 32px;\n",
       "      padding: 0 0 0 0;\n",
       "      width: 32px;\n",
       "    }\n",
       "\n",
       "    .colab-df-convert:hover {\n",
       "      background-color: #E2EBFA;\n",
       "      box-shadow: 0px 1px 2px rgba(60, 64, 67, 0.3), 0px 1px 3px 1px rgba(60, 64, 67, 0.15);\n",
       "      fill: #174EA6;\n",
       "    }\n",
       "\n",
       "    .colab-df-buttons div {\n",
       "      margin-bottom: 4px;\n",
       "    }\n",
       "\n",
       "    [theme=dark] .colab-df-convert {\n",
       "      background-color: #3B4455;\n",
       "      fill: #D2E3FC;\n",
       "    }\n",
       "\n",
       "    [theme=dark] .colab-df-convert:hover {\n",
       "      background-color: #434B5C;\n",
       "      box-shadow: 0px 1px 3px 1px rgba(0, 0, 0, 0.15);\n",
       "      filter: drop-shadow(0px 1px 2px rgba(0, 0, 0, 0.3));\n",
       "      fill: #FFFFFF;\n",
       "    }\n",
       "  </style>\n",
       "\n",
       "    <script>\n",
       "      const buttonEl =\n",
       "        document.querySelector('#df-c0a49ea9-7b2c-4fd0-aa0a-cf8688337c39 button.colab-df-convert');\n",
       "      buttonEl.style.display =\n",
       "        google.colab.kernel.accessAllowed ? 'block' : 'none';\n",
       "\n",
       "      async function convertToInteractive(key) {\n",
       "        const element = document.querySelector('#df-c0a49ea9-7b2c-4fd0-aa0a-cf8688337c39');\n",
       "        const dataTable =\n",
       "          await google.colab.kernel.invokeFunction('convertToInteractive',\n",
       "                                                    [key], {});\n",
       "        if (!dataTable) return;\n",
       "\n",
       "        const docLinkHtml = 'Like what you see? Visit the ' +\n",
       "          '<a target=\"_blank\" href=https://colab.research.google.com/notebooks/data_table.ipynb>data table notebook</a>'\n",
       "          + ' to learn more about interactive tables.';\n",
       "        element.innerHTML = '';\n",
       "        dataTable['output_type'] = 'display_data';\n",
       "        await google.colab.output.renderOutput(dataTable, element);\n",
       "        const docLink = document.createElement('div');\n",
       "        docLink.innerHTML = docLinkHtml;\n",
       "        element.appendChild(docLink);\n",
       "      }\n",
       "    </script>\n",
       "  </div>\n",
       "\n",
       "\n",
       "<div id=\"df-017eeb87-6f18-442e-b458-8264977dca6e\">\n",
       "  <button class=\"colab-df-quickchart\" onclick=\"quickchart('df-017eeb87-6f18-442e-b458-8264977dca6e')\"\n",
       "            title=\"Suggest charts\"\n",
       "            style=\"display:none;\">\n",
       "\n",
       "<svg xmlns=\"http://www.w3.org/2000/svg\" height=\"24px\"viewBox=\"0 0 24 24\"\n",
       "     width=\"24px\">\n",
       "    <g>\n",
       "        <path d=\"M19 3H5c-1.1 0-2 .9-2 2v14c0 1.1.9 2 2 2h14c1.1 0 2-.9 2-2V5c0-1.1-.9-2-2-2zM9 17H7v-7h2v7zm4 0h-2V7h2v10zm4 0h-2v-4h2v4z\"/>\n",
       "    </g>\n",
       "</svg>\n",
       "  </button>\n",
       "\n",
       "<style>\n",
       "  .colab-df-quickchart {\n",
       "      --bg-color: #E8F0FE;\n",
       "      --fill-color: #1967D2;\n",
       "      --hover-bg-color: #E2EBFA;\n",
       "      --hover-fill-color: #174EA6;\n",
       "      --disabled-fill-color: #AAA;\n",
       "      --disabled-bg-color: #DDD;\n",
       "  }\n",
       "\n",
       "  [theme=dark] .colab-df-quickchart {\n",
       "      --bg-color: #3B4455;\n",
       "      --fill-color: #D2E3FC;\n",
       "      --hover-bg-color: #434B5C;\n",
       "      --hover-fill-color: #FFFFFF;\n",
       "      --disabled-bg-color: #3B4455;\n",
       "      --disabled-fill-color: #666;\n",
       "  }\n",
       "\n",
       "  .colab-df-quickchart {\n",
       "    background-color: var(--bg-color);\n",
       "    border: none;\n",
       "    border-radius: 50%;\n",
       "    cursor: pointer;\n",
       "    display: none;\n",
       "    fill: var(--fill-color);\n",
       "    height: 32px;\n",
       "    padding: 0;\n",
       "    width: 32px;\n",
       "  }\n",
       "\n",
       "  .colab-df-quickchart:hover {\n",
       "    background-color: var(--hover-bg-color);\n",
       "    box-shadow: 0 1px 2px rgba(60, 64, 67, 0.3), 0 1px 3px 1px rgba(60, 64, 67, 0.15);\n",
       "    fill: var(--button-hover-fill-color);\n",
       "  }\n",
       "\n",
       "  .colab-df-quickchart-complete:disabled,\n",
       "  .colab-df-quickchart-complete:disabled:hover {\n",
       "    background-color: var(--disabled-bg-color);\n",
       "    fill: var(--disabled-fill-color);\n",
       "    box-shadow: none;\n",
       "  }\n",
       "\n",
       "  .colab-df-spinner {\n",
       "    border: 2px solid var(--fill-color);\n",
       "    border-color: transparent;\n",
       "    border-bottom-color: var(--fill-color);\n",
       "    animation:\n",
       "      spin 1s steps(1) infinite;\n",
       "  }\n",
       "\n",
       "  @keyframes spin {\n",
       "    0% {\n",
       "      border-color: transparent;\n",
       "      border-bottom-color: var(--fill-color);\n",
       "      border-left-color: var(--fill-color);\n",
       "    }\n",
       "    20% {\n",
       "      border-color: transparent;\n",
       "      border-left-color: var(--fill-color);\n",
       "      border-top-color: var(--fill-color);\n",
       "    }\n",
       "    30% {\n",
       "      border-color: transparent;\n",
       "      border-left-color: var(--fill-color);\n",
       "      border-top-color: var(--fill-color);\n",
       "      border-right-color: var(--fill-color);\n",
       "    }\n",
       "    40% {\n",
       "      border-color: transparent;\n",
       "      border-right-color: var(--fill-color);\n",
       "      border-top-color: var(--fill-color);\n",
       "    }\n",
       "    60% {\n",
       "      border-color: transparent;\n",
       "      border-right-color: var(--fill-color);\n",
       "    }\n",
       "    80% {\n",
       "      border-color: transparent;\n",
       "      border-right-color: var(--fill-color);\n",
       "      border-bottom-color: var(--fill-color);\n",
       "    }\n",
       "    90% {\n",
       "      border-color: transparent;\n",
       "      border-bottom-color: var(--fill-color);\n",
       "    }\n",
       "  }\n",
       "</style>\n",
       "\n",
       "  <script>\n",
       "    async function quickchart(key) {\n",
       "      const quickchartButtonEl =\n",
       "        document.querySelector('#' + key + ' button');\n",
       "      quickchartButtonEl.disabled = true;  // To prevent multiple clicks.\n",
       "      quickchartButtonEl.classList.add('colab-df-spinner');\n",
       "      try {\n",
       "        const charts = await google.colab.kernel.invokeFunction(\n",
       "            'suggestCharts', [key], {});\n",
       "      } catch (error) {\n",
       "        console.error('Error during call to suggestCharts:', error);\n",
       "      }\n",
       "      quickchartButtonEl.classList.remove('colab-df-spinner');\n",
       "      quickchartButtonEl.classList.add('colab-df-quickchart-complete');\n",
       "    }\n",
       "    (() => {\n",
       "      let quickchartButtonEl =\n",
       "        document.querySelector('#df-017eeb87-6f18-442e-b458-8264977dca6e button');\n",
       "      quickchartButtonEl.style.display =\n",
       "        google.colab.kernel.accessAllowed ? 'block' : 'none';\n",
       "    })();\n",
       "  </script>\n",
       "</div>\n",
       "\n",
       "  <div id=\"id_3e003c96-cda9-47d3-8f2a-7b98e716ad26\">\n",
       "    <style>\n",
       "      .colab-df-generate {\n",
       "        background-color: #E8F0FE;\n",
       "        border: none;\n",
       "        border-radius: 50%;\n",
       "        cursor: pointer;\n",
       "        display: none;\n",
       "        fill: #1967D2;\n",
       "        height: 32px;\n",
       "        padding: 0 0 0 0;\n",
       "        width: 32px;\n",
       "      }\n",
       "\n",
       "      .colab-df-generate:hover {\n",
       "        background-color: #E2EBFA;\n",
       "        box-shadow: 0px 1px 2px rgba(60, 64, 67, 0.3), 0px 1px 3px 1px rgba(60, 64, 67, 0.15);\n",
       "        fill: #174EA6;\n",
       "      }\n",
       "\n",
       "      [theme=dark] .colab-df-generate {\n",
       "        background-color: #3B4455;\n",
       "        fill: #D2E3FC;\n",
       "      }\n",
       "\n",
       "      [theme=dark] .colab-df-generate:hover {\n",
       "        background-color: #434B5C;\n",
       "        box-shadow: 0px 1px 3px 1px rgba(0, 0, 0, 0.15);\n",
       "        filter: drop-shadow(0px 1px 2px rgba(0, 0, 0, 0.3));\n",
       "        fill: #FFFFFF;\n",
       "      }\n",
       "    </style>\n",
       "    <button class=\"colab-df-generate\" onclick=\"generateWithVariable('results')\"\n",
       "            title=\"Generate code using this dataframe.\"\n",
       "            style=\"display:none;\">\n",
       "\n",
       "  <svg xmlns=\"http://www.w3.org/2000/svg\" height=\"24px\"viewBox=\"0 0 24 24\"\n",
       "       width=\"24px\">\n",
       "    <path d=\"M7,19H8.4L18.45,9,17,7.55,7,17.6ZM5,21V16.75L18.45,3.32a2,2,0,0,1,2.83,0l1.4,1.43a1.91,1.91,0,0,1,.58,1.4,1.91,1.91,0,0,1-.58,1.4L9.25,21ZM18.45,9,17,7.55Zm-12,3A5.31,5.31,0,0,0,4.9,8.1,5.31,5.31,0,0,0,1,6.5,5.31,5.31,0,0,0,4.9,4.9,5.31,5.31,0,0,0,6.5,1,5.31,5.31,0,0,0,8.1,4.9,5.31,5.31,0,0,0,12,6.5,5.46,5.46,0,0,0,6.5,12Z\"/>\n",
       "  </svg>\n",
       "    </button>\n",
       "    <script>\n",
       "      (() => {\n",
       "      const buttonEl =\n",
       "        document.querySelector('#id_3e003c96-cda9-47d3-8f2a-7b98e716ad26 button.colab-df-generate');\n",
       "      buttonEl.style.display =\n",
       "        google.colab.kernel.accessAllowed ? 'block' : 'none';\n",
       "\n",
       "      buttonEl.onclick = () => {\n",
       "        google.colab.notebook.generateWithVariable('results');\n",
       "      }\n",
       "      })();\n",
       "    </script>\n",
       "  </div>\n",
       "\n",
       "    </div>\n",
       "  </div>\n"
      ],
      "text/plain": [
       "                 xl  xu        xr         f(xl)    f(xu)         f(xr)  \\\n",
       "Iteración                                                                \n",
       "0          1.000000   3  2.438579  1.582942e+00 -0.61776  6.983724e-01   \n",
       "1          2.438579   3  2.736483  6.983724e-01 -0.61776  3.940530e-02   \n",
       "2          2.736483   3  2.752284  3.940530e-02 -0.61776  1.590836e-03   \n",
       "3          2.752284   3  2.752920  1.590836e-03 -0.61776  6.308077e-05   \n",
       "4          2.752920   3  2.752946  6.308077e-05 -0.61776  2.499504e-06   \n",
       "5          2.752946   3  2.752947  2.499504e-06 -0.61776  9.903721e-08   \n",
       "6          2.752947   3  2.752947  9.903721e-08 -0.61776  3.924121e-09   \n",
       "7          2.752947   3  2.752947  3.924121e-09 -0.61776  1.554837e-10   \n",
       "8          2.752947   3  2.752947  1.554837e-10 -0.61776  6.160294e-12   \n",
       "9          2.752947   3  2.752947  6.160294e-12 -0.61776  2.435829e-13   \n",
       "10         2.752947   3  2.752947  2.435829e-13 -0.61776  9.992007e-15   \n",
       "11         2.752947   3  2.752947  9.992007e-15 -0.61776  4.440892e-16   \n",
       "12         2.752947   3  2.752947  4.440892e-16 -0.61776  4.440892e-16   \n",
       "13         2.752947   3  2.752947  4.440892e-16 -0.61776  4.440892e-16   \n",
       "14         2.752947   3  2.752947  4.440892e-16 -0.61776  4.440892e-16   \n",
       "15         2.752947   3  2.752947  4.440892e-16 -0.61776  4.440892e-16   \n",
       "16         2.752947   3  2.752947  4.440892e-16 -0.61776  4.440892e-16   \n",
       "17         2.752947   3  2.752947  4.440892e-16 -0.61776  4.440892e-16   \n",
       "18         2.752947   3  2.752947  4.440892e-16 -0.61776  4.440892e-16   \n",
       "\n",
       "              Error  \n",
       "Iteración            \n",
       "0          2.000000  \n",
       "1          0.561421  \n",
       "2          0.263517  \n",
       "3          0.247716  \n",
       "4          0.247080  \n",
       "5          0.247054  \n",
       "6          0.247053  \n",
       "7          0.247053  \n",
       "8          0.247053  \n",
       "9          0.247053  \n",
       "10         0.247053  \n",
       "11         0.247053  \n",
       "12         0.247053  \n",
       "13         0.247053  \n",
       "14         0.247053  \n",
       "15         0.247053  \n",
       "16         0.247053  \n",
       "17         0.247053  \n",
       "18         0.247053  "
      ]
     },
     "execution_count": 9,
     "metadata": {},
     "output_type": "execute_result"
    }
   ],
   "source": [
    "results = pd.DataFrame(data=df,columns=['Iteración','xl','xu','xr','f(xl)','f(xu)','f(xr)','Error']).set_index('Iteración')\n",
    "results"
   ]
  },
  {
   "cell_type": "code",
   "execution_count": null,
   "metadata": {
    "colab": {
     "base_uri": "https://localhost:8080/",
     "height": 472
    },
    "executionInfo": {
     "elapsed": 448,
     "status": "ok",
     "timestamp": 1743778264860,
     "user": {
      "displayName": "EFRAÍN GARC�A VALENCIA",
      "userId": "07090753714787850374"
     },
     "user_tz": 300
    },
    "id": "G49B39IvG9zb",
    "outputId": "146e9a59-b298-415e-d848-d97f5f3aa057"
   },
   "outputs": [
    {
     "data": {
      "image/png": "[encoded data removed]",
      "text/plain": [
       "<Figure size 640x480 with 1 Axes>"
      ]
     },
     "metadata": {},
     "output_type": "display_data"
    }
   ],
   "source": [
    "plt.plot(results.index, results[\"Error\"])\n",
    "plt.xlabel(\"Iteración\")\n",
    "plt.ylabel(\"Error\")\n",
    "plt.title(\"Error en cada iteración\")\n",
    "plt.grid(True)\n",
    "plt.show()"
   ]
  },
  {
   "cell_type": "code",
   "execution_count": null,
   "metadata": {
    "id": "h-gc94tKzyu6"
   },
   "outputs": [],
   "source": []
  }
 ],
 "metadata": {
  "colab": {
   "authorship_tag": "ABX9TyPKMEzLkQGOTU1IpsMIak/A",
   "provenance": [
    {
     "file_id": "1YWrHPJN6cRR9ez6mDL5jUJQkJIxqLrDK",
     "timestamp": 1741973301708
    }
   ]
  },
  "kernelspec": {
   "display_name": "Python [conda env:base] *",
   "language": "python",
   "name": "conda-base-py"
  },
  "language_info": {
   "codemirror_mode": {
    "name": "ipython",
    "version": 3
   },
   "file_extension": ".py",
   "mimetype": "text/x-python",
   "name": "python",
   "nbconvert_exporter": "python",
   "pygments_lexer": "ipython3",
   "version": "3.13.5"
  }
 },
 "nbformat": 4,
 "nbformat_minor": 4
}
