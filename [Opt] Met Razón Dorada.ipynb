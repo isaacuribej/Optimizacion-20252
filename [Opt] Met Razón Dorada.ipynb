{
 "cells": [
  {
   "cell_type": "markdown",
   "metadata": {
    "id": "D5IF3-P6lcls"
   },
   "source": [
    "# **Método de la Razón Dorada**\n",
    "Isaac Esteban Uribe Jaramillo\n"
   ]
  },
  {
   "cell_type": "markdown",
   "metadata": {
    "id": "erw2OfKgBO6e"
   },
   "source": [
    "## **1. Importamos librerías**"
   ]
  },
  {
   "cell_type": "code",
   "execution_count": null,
   "metadata": {
    "executionInfo": {
     "elapsed": 4,
     "status": "ok",
     "timestamp": 1742580726622,
     "user": {
      "displayName": "EFRAÍN GARC�A VALENCIA",
      "userId": "07090753714787850374"
     },
     "user_tz": 300
    },
    "id": "q3lR0v46gMTQ"
   },
   "outputs": [
    {
     "ename": "",
     "evalue": "",
     "output_type": "error",
     "traceback": [
      "\u001b[1;31mRunning cells with '.conda (Python 3.11.13)' requires the ipykernel package.\n",
      "\u001b[1;31mInstall 'ipykernel' into the Python environment. \n",
      "\u001b[1;31mCommand: 'conda install -n .conda ipykernel --update-deps --force-reinstall'"
     ]
    }
   ],
   "source": [
    "import numpy as np\n",
    "import matplotlib.pyplot as plt\n",
    "import pandas as pd"
   ]
  },
  {
   "cell_type": "markdown",
   "metadata": {
    "id": "XwCOWfmLBU-i"
   },
   "source": [
    "## **2. Inicialización y pre-procesamiento**"
   ]
  },
  {
   "cell_type": "markdown",
   "metadata": {
    "id": "lFEVqBUoJHNf"
   },
   "source": [
    "### 2.1 Definimos la función y su gráfica"
   ]
  },
  {
   "cell_type": "code",
   "execution_count": 68,
   "metadata": {
    "executionInfo": {
     "elapsed": 4,
     "status": "ok",
     "timestamp": 1742580726629,
     "user": {
      "displayName": "EFRAÍN GARC�A VALENCIA",
      "userId": "07090753714787850374"
     },
     "user_tz": 300
    },
    "id": "XMhL8wfYJZNA"
   },
   "outputs": [],
   "source": [
    "#fx  = lambda x: 3*x**2 - 120*x + 100\n",
    "#fx  = lambda x: x**3 - x**2 + 2\n",
    "fx = lambda x: 2*np.sin(x) - (x**2 / 10)\n",
    "#fx  = lambda x: 7*x**4 - 4*x**3"
   ]
  },
  {
   "cell_type": "code",
   "execution_count": 69,
   "metadata": {
    "colab": {
     "base_uri": "https://localhost:8080/",
     "height": 472
    },
    "executionInfo": {
     "elapsed": 242,
     "status": "ok",
     "timestamp": 1742580726869,
     "user": {
      "displayName": "EFRAÍN GARC�A VALENCIA",
      "userId": "07090753714787850374"
     },
     "user_tz": 300
    },
    "id": "gQMbNymnNhIh",
    "outputId": "53e76e2e-82d5-4e5a-bdb4-61f6f97ae530"
   },
   "outputs": [
    {
     "data": {
      "image/png": "[encoded data removed]",
      "text/plain": [
       "<Figure size 640x480 with 1 Axes>"
      ]
     },
     "metadata": {},
     "output_type": "display_data"
    }
   ],
   "source": [
    "x = np.linspace(0, 4, 100)\n",
    "y = fx(x)\n",
    "plt.plot(x, y)\n",
    "plt.xlabel('x')\n",
    "plt.ylabel('f(x)')\n",
    "plt.title('Graph of f(x)')\n",
    "plt.grid(True)\n",
    "plt.show()"
   ]
  },
  {
   "cell_type": "markdown",
   "metadata": {
    "id": "RoH5PADoJLpo"
   },
   "source": [
    "### 2.2 Seleccionamos valores iniciales para Xl, Xu, Err"
   ]
  },
  {
   "cell_type": "code",
   "execution_count": 70,
   "metadata": {
    "executionInfo": {
     "elapsed": 27,
     "status": "ok",
     "timestamp": 1742580726870,
     "user": {
      "displayName": "EFRAÍN GARC�A VALENCIA",
      "userId": "07090753714787850374"
     },
     "user_tz": 300
    },
    "id": "uPe33o01gYkG"
   },
   "outputs": [],
   "source": [
    "xl, xu = 0, 4\n",
    "# xl, xu = -2, 2\n",
    "err = 0.000001"
   ]
  },
  {
   "cell_type": "markdown",
   "metadata": {
    "id": "aWHAKefMJ5xH"
   },
   "source": [
    "### 2.3 Inicializamos el Dataframe"
   ]
  },
  {
   "cell_type": "code",
   "execution_count": 71,
   "metadata": {
    "executionInfo": {
     "elapsed": 26,
     "status": "ok",
     "timestamp": 1742580726872,
     "user": {
      "displayName": "EFRAÍN GARC�A VALENCIA",
      "userId": "07090753714787850374"
     },
     "user_tz": 300
    },
    "id": "GpeaI3CqFXHV"
   },
   "outputs": [],
   "source": [
    "df = []"
   ]
  },
  {
   "cell_type": "markdown",
   "metadata": {
    "id": "r4pjtZJJJ9XP"
   },
   "source": [
    "### 2.4 Determinamos cuantas iteraciones necesitamos para llegar a la convergencia"
   ]
  },
  {
   "cell_type": "code",
   "execution_count": 72,
   "metadata": {
    "executionInfo": {
     "elapsed": 26,
     "status": "ok",
     "timestamp": 1742580726874,
     "user": {
      "displayName": "EFRAÍN GARC�A VALENCIA",
      "userId": "07090753714787850374"
     },
     "user_tz": 300
    },
    "id": "uy3IxjJTIfe1"
   },
   "outputs": [],
   "source": [
    "def iteracionesMaximas(xl,xu,err):\n",
    "  return int(np.log2((xu - xl) / err) - 1)"
   ]
  },
  {
   "cell_type": "markdown",
   "metadata": {
    "id": "dbFYSi4uEu9V"
   },
   "source": [
    "## **3. Algorítmo de la Razón Dorada**"
   ]
  },
  {
   "cell_type": "code",
   "execution_count": 73,
   "metadata": {
    "executionInfo": {
     "elapsed": 15,
     "status": "ok",
     "timestamp": 1742580726875,
     "user": {
      "displayName": "EFRAÍN GARC�A VALENCIA",
      "userId": "07090753714787850374"
     },
     "user_tz": 300
    },
    "id": "KCM5Ua_r2-kU"
   },
   "outputs": [],
   "source": [
    "def razonDorada(fx,xlower,xupper,err):\n",
    "  '''\n",
    "\n",
    "  '''\n",
    "  rd = abs((1 - np.sqrt(5)) / 2)\n",
    "  for i in range(100):\n",
    "    d = rd * (xupper - xlower)\n",
    "    x1 = xlower + d\n",
    "    x2 = xupper - d\n",
    "    fx_1 = fx(x1)\n",
    "    fx_2 = fx(x2)\n",
    "    df.append([i,xlower,xupper,x1,x2,fx_1,fx_2,d,abs(x2-x1)])\n",
    "    if abs(x2 - x1) < err:\n",
    "      return x1\n",
    "    elif fx_2 > fx_1:\n",
    "      xupper = x1\n",
    "    else:\n",
    "      xlower = x2\n",
    "  return x1"
   ]
  },
  {
   "cell_type": "code",
   "execution_count": 73,
   "metadata": {
    "executionInfo": {
     "elapsed": 15,
     "status": "ok",
     "timestamp": 1742580726876,
     "user": {
      "displayName": "EFRAÍN GARC�A VALENCIA",
      "userId": "07090753714787850374"
     },
     "user_tz": 300
    },
    "id": "ytLRTjzB1fdD"
   },
   "outputs": [],
   "source": []
  },
  {
   "cell_type": "markdown",
   "metadata": {
    "id": "XwJNYUwzK9eI"
   },
   "source": [
    "## **4. Obtención de resultados**"
   ]
  },
  {
   "cell_type": "code",
   "execution_count": 74,
   "metadata": {
    "colab": {
     "base_uri": "https://localhost:8080/"
    },
    "executionInfo": {
     "elapsed": 29,
     "status": "ok",
     "timestamp": 1742580726892,
     "user": {
      "displayName": "EFRAÍN GARC�A VALENCIA",
      "userId": "07090753714787850374"
     },
     "user_tz": 300
    },
    "id": "O2Fij55Gg6Zb",
    "outputId": "43a8fb00-492b-45f9-be51-6ed4f00d8236"
   },
   "outputs": [
    {
     "name": "stdout",
     "output_type": "stream",
     "text": [
      "La raíz se encuentra aproximadamente en:  1.42755216023998\n"
     ]
    }
   ],
   "source": [
    "r = razonDorada(fx,xl,xu,err)\n",
    "print(\"La raíz se encuentra aproximadamente en: \", r)"
   ]
  },
  {
   "cell_type": "code",
   "execution_count": 75,
   "metadata": {
    "colab": {
     "base_uri": "https://localhost:8080/",
     "height": 1000
    },
    "executionInfo": {
     "elapsed": 32,
     "status": "ok",
     "timestamp": 1742580726925,
     "user": {
      "displayName": "EFRAÍN GARC�A VALENCIA",
      "userId": "07090753714787850374"
     },
     "user_tz": 300
    },
    "id": "ChpZfHteD4xe",
    "outputId": "5c67ec99-6615-40bb-967a-5844631a02c6"
   },
   "outputs": [
    {
     "data": {
      "application/vnd.google.colaboratory.intrinsic+json": {
       "summary": "{\n  \"name\": \"results\",\n  \"rows\": 30,\n  \"fields\": [\n    {\n      \"column\": \"Iteraci\\u00f3n\",\n      \"properties\": {\n        \"dtype\": \"number\",\n        \"std\": 8,\n        \"min\": 0,\n        \"max\": 29,\n        \"num_unique_values\": 30,\n        \"samples\": [\n          27,\n          15,\n          23\n        ],\n        \"semantic_type\": \"\",\n        \"description\": \"\"\n      }\n    },\n    {\n      \"column\": \"xl\",\n      \"properties\": {\n        \"dtype\": \"number\",\n        \"std\": 0.369740791459661,\n        \"min\": 0.0,\n        \"max\": 1.4275500102779806,\n        \"num_unique_values\": 15,\n        \"samples\": [\n          1.427364070187591,\n          1.4275274955836246,\n          0.0\n        ],\n        \"semantic_type\": \"\",\n        \"description\": \"\"\n      }\n    },\n    {\n      \"column\": \"xu\",\n      \"properties\": {\n        \"dtype\": \"number\",\n        \"std\": 0.5269152207423796,\n        \"min\": 1.4275534889895702,\n        \"max\": 4.0,\n        \"num_unique_values\": 16,\n        \"samples\": [\n          4.0,\n          2.4721359549995796,\n          1.4752415750147214\n        ],\n        \"semantic_type\": \"\",\n        \"description\": \"\"\n      }\n    },\n    {\n      \"column\": \"x1\",\n      \"properties\": {\n        \"dtype\": \"number\",\n        \"std\": 0.206943695098146,\n        \"min\": 1.422619105029022,\n        \"max\": 2.4721359549995796,\n        \"num_unique_values\": 24,\n        \"samples\": [\n          1.4350415850895895,\n          1.4275660750863386,\n          2.4721359549995796\n        ],\n        \"semantic_type\": \"\",\n        \"description\": \"\"\n      }\n    },\n    {\n      \"column\": \"x2\",\n      \"properties\": {\n        \"dtype\": \"number\",\n        \"std\": 0.09775634551988474,\n        \"min\": 0.9442719099991588,\n        \"max\": 1.5278640450004206,\n        \"num_unique_values\": 22,\n        \"samples\": [\n          1.5278640450004204,\n          1.4270996423421833,\n          1.4101966249684545\n        ],\n        \"semantic_type\": \"\",\n        \"description\": \"\"\n      }\n    },\n    {\n      \"column\": \"f(x1)\",\n      \"properties\": {\n        \"dtype\": \"number\",\n        \"std\": 0.21159214752988348,\n        \"min\": 0.6299744699822459,\n        \"max\": 1.7757256531472565,\n        \"num_unique_values\": 21,\n        \"samples\": [\n          0.6299744699822459,\n          1.7757256531180734,\n          1.7757256515622049\n        ],\n        \"semantic_type\": \"\",\n        \"description\": \"\"\n      }\n    },\n    {\n      \"column\": \"f(x2)\",\n      \"properties\": {\n        \"dtype\": \"number\",\n        \"std\": 0.04456831158286499,\n        \"min\": 1.530975546926476,\n        \"max\": 1.7757256531472045,\n        \"num_unique_values\": 22,\n        \"samples\": [\n          1.7647202482716493,\n          1.7757254303754766,\n          1.7753976727678207\n        ],\n        \"semantic_type\": \"\",\n        \"description\": \"\"\n      }\n    },\n    {\n      \"column\": \"d\",\n      \"properties\": {\n        \"dtype\": \"number\",\n        \"std\": 0.5411437608396504,\n        \"min\": 2.1499619994787338e-06,\n        \"max\": 2.4721359549995796,\n        \"num_unique_values\": 30,\n        \"samples\": [\n          5.6286735889209115e-06,\n          0.001812415415139278,\n          3.8579502713891705e-05\n        ],\n        \"semantic_type\": \"\",\n        \"description\": \"\"\n      }\n    },\n    {\n      \"column\": \"Error\",\n      \"properties\": {\n        \"dtype\": \"number\",\n        \"std\": 0.20669852384080217,\n        \"min\": 8.21212409407579e-07,\n        \"max\": 0.9442719099991592,\n        \"num_unique_values\": 30,\n        \"samples\": [\n          2.149961999542427e-06,\n          0.0006922810868490448,\n          1.4736058767450544e-05\n        ],\n        \"semantic_type\": \"\",\n        \"description\": \"\"\n      }\n    }\n  ]\n}",
       "type": "dataframe",
       "variable_name": "results"
      },
      "text/html": [
       "\n",
       "  <div id=\"df-02e4e197-decd-407c-ac0f-b35b1ac210b8\" class=\"colab-df-container\">\n",
       "    <div>\n",
       "<style scoped>\n",
       "    .dataframe tbody tr th:only-of-type {\n",
       "        vertical-align: middle;\n",
       "    }\n",
       "\n",
       "    .dataframe tbody tr th {\n",
       "        vertical-align: top;\n",
       "    }\n",
       "\n",
       "    .dataframe thead th {\n",
       "        text-align: right;\n",
       "    }\n",
       "</style>\n",
       "<table border=\"1\" class=\"dataframe\">\n",
       "  <thead>\n",
       "    <tr style=\"text-align: right;\">\n",
       "      <th></th>\n",
       "      <th>xl</th>\n",
       "      <th>xu</th>\n",
       "      <th>x1</th>\n",
       "      <th>x2</th>\n",
       "      <th>f(x1)</th>\n",
       "      <th>f(x2)</th>\n",
       "      <th>d</th>\n",
       "      <th>Error</th>\n",
       "    </tr>\n",
       "    <tr>\n",
       "      <th>Iteración</th>\n",
       "      <th></th>\n",
       "      <th></th>\n",
       "      <th></th>\n",
       "      <th></th>\n",
       "      <th></th>\n",
       "      <th></th>\n",
       "      <th></th>\n",
       "      <th></th>\n",
       "    </tr>\n",
       "  </thead>\n",
       "  <tbody>\n",
       "    <tr>\n",
       "      <th>0</th>\n",
       "      <td>0.000000</td>\n",
       "      <td>4.000000</td>\n",
       "      <td>2.472136</td>\n",
       "      <td>1.527864</td>\n",
       "      <td>0.629974</td>\n",
       "      <td>1.764720</td>\n",
       "      <td>2.472136</td>\n",
       "      <td>9.442719e-01</td>\n",
       "    </tr>\n",
       "    <tr>\n",
       "      <th>1</th>\n",
       "      <td>0.000000</td>\n",
       "      <td>2.472136</td>\n",
       "      <td>1.527864</td>\n",
       "      <td>0.944272</td>\n",
       "      <td>1.764720</td>\n",
       "      <td>1.530976</td>\n",
       "      <td>1.527864</td>\n",
       "      <td>5.835921e-01</td>\n",
       "    </tr>\n",
       "    <tr>\n",
       "      <th>2</th>\n",
       "      <td>0.944272</td>\n",
       "      <td>2.472136</td>\n",
       "      <td>1.888544</td>\n",
       "      <td>1.527864</td>\n",
       "      <td>1.543223</td>\n",
       "      <td>1.764720</td>\n",
       "      <td>0.944272</td>\n",
       "      <td>3.606798e-01</td>\n",
       "    </tr>\n",
       "    <tr>\n",
       "      <th>3</th>\n",
       "      <td>0.944272</td>\n",
       "      <td>1.888544</td>\n",
       "      <td>1.527864</td>\n",
       "      <td>1.304952</td>\n",
       "      <td>1.764720</td>\n",
       "      <td>1.759452</td>\n",
       "      <td>0.583592</td>\n",
       "      <td>2.229124e-01</td>\n",
       "    </tr>\n",
       "    <tr>\n",
       "      <th>4</th>\n",
       "      <td>1.304952</td>\n",
       "      <td>1.888544</td>\n",
       "      <td>1.665631</td>\n",
       "      <td>1.527864</td>\n",
       "      <td>1.713580</td>\n",
       "      <td>1.764720</td>\n",
       "      <td>0.360680</td>\n",
       "      <td>1.377674e-01</td>\n",
       "    </tr>\n",
       "    <tr>\n",
       "      <th>5</th>\n",
       "      <td>1.304952</td>\n",
       "      <td>1.665631</td>\n",
       "      <td>1.527864</td>\n",
       "      <td>1.442719</td>\n",
       "      <td>1.764720</td>\n",
       "      <td>1.775475</td>\n",
       "      <td>0.222912</td>\n",
       "      <td>8.514495e-02</td>\n",
       "    </tr>\n",
       "    <tr>\n",
       "      <th>6</th>\n",
       "      <td>1.304952</td>\n",
       "      <td>1.527864</td>\n",
       "      <td>1.442719</td>\n",
       "      <td>1.390097</td>\n",
       "      <td>1.775475</td>\n",
       "      <td>1.774200</td>\n",
       "      <td>0.137767</td>\n",
       "      <td>5.262247e-02</td>\n",
       "    </tr>\n",
       "    <tr>\n",
       "      <th>7</th>\n",
       "      <td>1.390097</td>\n",
       "      <td>1.527864</td>\n",
       "      <td>1.475242</td>\n",
       "      <td>1.442719</td>\n",
       "      <td>1.773242</td>\n",
       "      <td>1.775475</td>\n",
       "      <td>0.085145</td>\n",
       "      <td>3.252248e-02</td>\n",
       "    </tr>\n",
       "    <tr>\n",
       "      <th>8</th>\n",
       "      <td>1.390097</td>\n",
       "      <td>1.475242</td>\n",
       "      <td>1.442719</td>\n",
       "      <td>1.422619</td>\n",
       "      <td>1.775475</td>\n",
       "      <td>1.775699</td>\n",
       "      <td>0.052622</td>\n",
       "      <td>2.009999e-02</td>\n",
       "    </tr>\n",
       "    <tr>\n",
       "      <th>9</th>\n",
       "      <td>1.390097</td>\n",
       "      <td>1.442719</td>\n",
       "      <td>1.422619</td>\n",
       "      <td>1.410197</td>\n",
       "      <td>1.775699</td>\n",
       "      <td>1.775398</td>\n",
       "      <td>0.032522</td>\n",
       "      <td>1.242248e-02</td>\n",
       "    </tr>\n",
       "    <tr>\n",
       "      <th>10</th>\n",
       "      <td>1.410197</td>\n",
       "      <td>1.442719</td>\n",
       "      <td>1.430297</td>\n",
       "      <td>1.422619</td>\n",
       "      <td>1.775717</td>\n",
       "      <td>1.775699</td>\n",
       "      <td>0.020100</td>\n",
       "      <td>7.677515e-03</td>\n",
       "    </tr>\n",
       "    <tr>\n",
       "      <th>11</th>\n",
       "      <td>1.422619</td>\n",
       "      <td>1.442719</td>\n",
       "      <td>1.435042</td>\n",
       "      <td>1.430297</td>\n",
       "      <td>1.775665</td>\n",
       "      <td>1.775717</td>\n",
       "      <td>0.012422</td>\n",
       "      <td>4.744965e-03</td>\n",
       "    </tr>\n",
       "    <tr>\n",
       "      <th>12</th>\n",
       "      <td>1.422619</td>\n",
       "      <td>1.435042</td>\n",
       "      <td>1.430297</td>\n",
       "      <td>1.427364</td>\n",
       "      <td>1.775717</td>\n",
       "      <td>1.775726</td>\n",
       "      <td>0.007678</td>\n",
       "      <td>2.932550e-03</td>\n",
       "    </tr>\n",
       "    <tr>\n",
       "      <th>13</th>\n",
       "      <td>1.422619</td>\n",
       "      <td>1.430297</td>\n",
       "      <td>1.427364</td>\n",
       "      <td>1.425552</td>\n",
       "      <td>1.775726</td>\n",
       "      <td>1.775721</td>\n",
       "      <td>0.004745</td>\n",
       "      <td>1.812415e-03</td>\n",
       "    </tr>\n",
       "    <tr>\n",
       "      <th>14</th>\n",
       "      <td>1.425552</td>\n",
       "      <td>1.430297</td>\n",
       "      <td>1.428484</td>\n",
       "      <td>1.427364</td>\n",
       "      <td>1.775725</td>\n",
       "      <td>1.775726</td>\n",
       "      <td>0.002933</td>\n",
       "      <td>1.120134e-03</td>\n",
       "    </tr>\n",
       "    <tr>\n",
       "      <th>15</th>\n",
       "      <td>1.425552</td>\n",
       "      <td>1.428484</td>\n",
       "      <td>1.427364</td>\n",
       "      <td>1.426672</td>\n",
       "      <td>1.775726</td>\n",
       "      <td>1.775725</td>\n",
       "      <td>0.001812</td>\n",
       "      <td>6.922811e-04</td>\n",
       "    </tr>\n",
       "    <tr>\n",
       "      <th>16</th>\n",
       "      <td>1.426672</td>\n",
       "      <td>1.428484</td>\n",
       "      <td>1.427792</td>\n",
       "      <td>1.427364</td>\n",
       "      <td>1.775726</td>\n",
       "      <td>1.775726</td>\n",
       "      <td>0.001120</td>\n",
       "      <td>4.278532e-04</td>\n",
       "    </tr>\n",
       "    <tr>\n",
       "      <th>17</th>\n",
       "      <td>1.426672</td>\n",
       "      <td>1.427792</td>\n",
       "      <td>1.427364</td>\n",
       "      <td>1.427100</td>\n",
       "      <td>1.775726</td>\n",
       "      <td>1.775725</td>\n",
       "      <td>0.000692</td>\n",
       "      <td>2.644278e-04</td>\n",
       "    </tr>\n",
       "    <tr>\n",
       "      <th>18</th>\n",
       "      <td>1.427100</td>\n",
       "      <td>1.427792</td>\n",
       "      <td>1.427527</td>\n",
       "      <td>1.427364</td>\n",
       "      <td>1.775726</td>\n",
       "      <td>1.775726</td>\n",
       "      <td>0.000428</td>\n",
       "      <td>1.634254e-04</td>\n",
       "    </tr>\n",
       "    <tr>\n",
       "      <th>19</th>\n",
       "      <td>1.427364</td>\n",
       "      <td>1.427792</td>\n",
       "      <td>1.427628</td>\n",
       "      <td>1.427527</td>\n",
       "      <td>1.775726</td>\n",
       "      <td>1.775726</td>\n",
       "      <td>0.000264</td>\n",
       "      <td>1.010024e-04</td>\n",
       "    </tr>\n",
       "    <tr>\n",
       "      <th>20</th>\n",
       "      <td>1.427364</td>\n",
       "      <td>1.427628</td>\n",
       "      <td>1.427527</td>\n",
       "      <td>1.427465</td>\n",
       "      <td>1.775726</td>\n",
       "      <td>1.775726</td>\n",
       "      <td>0.000163</td>\n",
       "      <td>6.242295e-05</td>\n",
       "    </tr>\n",
       "    <tr>\n",
       "      <th>21</th>\n",
       "      <td>1.427465</td>\n",
       "      <td>1.427628</td>\n",
       "      <td>1.427566</td>\n",
       "      <td>1.427527</td>\n",
       "      <td>1.775726</td>\n",
       "      <td>1.775726</td>\n",
       "      <td>0.000101</td>\n",
       "      <td>3.857950e-05</td>\n",
       "    </tr>\n",
       "    <tr>\n",
       "      <th>22</th>\n",
       "      <td>1.427527</td>\n",
       "      <td>1.427628</td>\n",
       "      <td>1.427590</td>\n",
       "      <td>1.427566</td>\n",
       "      <td>1.775726</td>\n",
       "      <td>1.775726</td>\n",
       "      <td>0.000062</td>\n",
       "      <td>2.384344e-05</td>\n",
       "    </tr>\n",
       "    <tr>\n",
       "      <th>23</th>\n",
       "      <td>1.427527</td>\n",
       "      <td>1.427590</td>\n",
       "      <td>1.427566</td>\n",
       "      <td>1.427551</td>\n",
       "      <td>1.775726</td>\n",
       "      <td>1.775726</td>\n",
       "      <td>0.000039</td>\n",
       "      <td>1.473606e-05</td>\n",
       "    </tr>\n",
       "    <tr>\n",
       "      <th>24</th>\n",
       "      <td>1.427527</td>\n",
       "      <td>1.427566</td>\n",
       "      <td>1.427551</td>\n",
       "      <td>1.427542</td>\n",
       "      <td>1.775726</td>\n",
       "      <td>1.775726</td>\n",
       "      <td>0.000024</td>\n",
       "      <td>9.107385e-06</td>\n",
       "    </tr>\n",
       "    <tr>\n",
       "      <th>25</th>\n",
       "      <td>1.427542</td>\n",
       "      <td>1.427566</td>\n",
       "      <td>1.427557</td>\n",
       "      <td>1.427551</td>\n",
       "      <td>1.775726</td>\n",
       "      <td>1.775726</td>\n",
       "      <td>0.000015</td>\n",
       "      <td>5.628674e-06</td>\n",
       "    </tr>\n",
       "    <tr>\n",
       "      <th>26</th>\n",
       "      <td>1.427542</td>\n",
       "      <td>1.427557</td>\n",
       "      <td>1.427551</td>\n",
       "      <td>1.427548</td>\n",
       "      <td>1.775726</td>\n",
       "      <td>1.775726</td>\n",
       "      <td>0.000009</td>\n",
       "      <td>3.478712e-06</td>\n",
       "    </tr>\n",
       "    <tr>\n",
       "      <th>27</th>\n",
       "      <td>1.427548</td>\n",
       "      <td>1.427557</td>\n",
       "      <td>1.427553</td>\n",
       "      <td>1.427551</td>\n",
       "      <td>1.775726</td>\n",
       "      <td>1.775726</td>\n",
       "      <td>0.000006</td>\n",
       "      <td>2.149962e-06</td>\n",
       "    </tr>\n",
       "    <tr>\n",
       "      <th>28</th>\n",
       "      <td>1.427548</td>\n",
       "      <td>1.427553</td>\n",
       "      <td>1.427551</td>\n",
       "      <td>1.427550</td>\n",
       "      <td>1.775726</td>\n",
       "      <td>1.775726</td>\n",
       "      <td>0.000003</td>\n",
       "      <td>1.328750e-06</td>\n",
       "    </tr>\n",
       "    <tr>\n",
       "      <th>29</th>\n",
       "      <td>1.427550</td>\n",
       "      <td>1.427553</td>\n",
       "      <td>1.427552</td>\n",
       "      <td>1.427551</td>\n",
       "      <td>1.775726</td>\n",
       "      <td>1.775726</td>\n",
       "      <td>0.000002</td>\n",
       "      <td>8.212124e-07</td>\n",
       "    </tr>\n",
       "  </tbody>\n",
       "</table>\n",
       "</div>\n",
       "    <div class=\"colab-df-buttons\">\n",
       "\n",
       "  <div class=\"colab-df-container\">\n",
       "    <button class=\"colab-df-convert\" onclick=\"convertToInteractive('df-02e4e197-decd-407c-ac0f-b35b1ac210b8')\"\n",
       "            title=\"Convert this dataframe to an interactive table.\"\n",
       "            style=\"display:none;\">\n",
       "\n",
       "  <svg xmlns=\"http://www.w3.org/2000/svg\" height=\"24px\" viewBox=\"0 -960 960 960\">\n",
       "    <path d=\"M120-120v-720h720v720H120Zm60-500h600v-160H180v160Zm220 220h160v-160H400v160Zm0 220h160v-160H400v160ZM180-400h160v-160H180v160Zm440 0h160v-160H620v160ZM180-180h160v-160H180v160Zm440 0h160v-160H620v160Z\"/>\n",
       "  </svg>\n",
       "    </button>\n",
       "\n",
       "  <style>\n",
       "    .colab-df-container {\n",
       "      display:flex;\n",
       "      gap: 12px;\n",
       "    }\n",
       "\n",
       "    .colab-df-convert {\n",
       "      background-color: #E8F0FE;\n",
       "      border: none;\n",
       "      border-radius: 50%;\n",
       "      cursor: pointer;\n",
       "      display: none;\n",
       "      fill: #1967D2;\n",
       "      height: 32px;\n",
       "      padding: 0 0 0 0;\n",
       "      width: 32px;\n",
       "    }\n",
       "\n",
       "    .colab-df-convert:hover {\n",
       "      background-color: #E2EBFA;\n",
       "      box-shadow: 0px 1px 2px rgba(60, 64, 67, 0.3), 0px 1px 3px 1px rgba(60, 64, 67, 0.15);\n",
       "      fill: #174EA6;\n",
       "    }\n",
       "\n",
       "    .colab-df-buttons div {\n",
       "      margin-bottom: 4px;\n",
       "    }\n",
       "\n",
       "    [theme=dark] .colab-df-convert {\n",
       "      background-color: #3B4455;\n",
       "      fill: #D2E3FC;\n",
       "    }\n",
       "\n",
       "    [theme=dark] .colab-df-convert:hover {\n",
       "      background-color: #434B5C;\n",
       "      box-shadow: 0px 1px 3px 1px rgba(0, 0, 0, 0.15);\n",
       "      filter: drop-shadow(0px 1px 2px rgba(0, 0, 0, 0.3));\n",
       "      fill: #FFFFFF;\n",
       "    }\n",
       "  </style>\n",
       "\n",
       "    <script>\n",
       "      const buttonEl =\n",
       "        document.querySelector('#df-02e4e197-decd-407c-ac0f-b35b1ac210b8 button.colab-df-convert');\n",
       "      buttonEl.style.display =\n",
       "        google.colab.kernel.accessAllowed ? 'block' : 'none';\n",
       "\n",
       "      async function convertToInteractive(key) {\n",
       "        const element = document.querySelector('#df-02e4e197-decd-407c-ac0f-b35b1ac210b8');\n",
       "        const dataTable =\n",
       "          await google.colab.kernel.invokeFunction('convertToInteractive',\n",
       "                                                    [key], {});\n",
       "        if (!dataTable) return;\n",
       "\n",
       "        const docLinkHtml = 'Like what you see? Visit the ' +\n",
       "          '<a target=\"_blank\" href=https://colab.research.google.com/notebooks/data_table.ipynb>data table notebook</a>'\n",
       "          + ' to learn more about interactive tables.';\n",
       "        element.innerHTML = '';\n",
       "        dataTable['output_type'] = 'display_data';\n",
       "        await google.colab.output.renderOutput(dataTable, element);\n",
       "        const docLink = document.createElement('div');\n",
       "        docLink.innerHTML = docLinkHtml;\n",
       "        element.appendChild(docLink);\n",
       "      }\n",
       "    </script>\n",
       "  </div>\n",
       "\n",
       "\n",
       "<div id=\"df-7aa00db0-c0f4-4579-bc27-7d892eb51dee\">\n",
       "  <button class=\"colab-df-quickchart\" onclick=\"quickchart('df-7aa00db0-c0f4-4579-bc27-7d892eb51dee')\"\n",
       "            title=\"Suggest charts\"\n",
       "            style=\"display:none;\">\n",
       "\n",
       "<svg xmlns=\"http://www.w3.org/2000/svg\" height=\"24px\"viewBox=\"0 0 24 24\"\n",
       "     width=\"24px\">\n",
       "    <g>\n",
       "        <path d=\"M19 3H5c-1.1 0-2 .9-2 2v14c0 1.1.9 2 2 2h14c1.1 0 2-.9 2-2V5c0-1.1-.9-2-2-2zM9 17H7v-7h2v7zm4 0h-2V7h2v10zm4 0h-2v-4h2v4z\"/>\n",
       "    </g>\n",
       "</svg>\n",
       "  </button>\n",
       "\n",
       "<style>\n",
       "  .colab-df-quickchart {\n",
       "      --bg-color: #E8F0FE;\n",
       "      --fill-color: #1967D2;\n",
       "      --hover-bg-color: #E2EBFA;\n",
       "      --hover-fill-color: #174EA6;\n",
       "      --disabled-fill-color: #AAA;\n",
       "      --disabled-bg-color: #DDD;\n",
       "  }\n",
       "\n",
       "  [theme=dark] .colab-df-quickchart {\n",
       "      --bg-color: #3B4455;\n",
       "      --fill-color: #D2E3FC;\n",
       "      --hover-bg-color: #434B5C;\n",
       "      --hover-fill-color: #FFFFFF;\n",
       "      --disabled-bg-color: #3B4455;\n",
       "      --disabled-fill-color: #666;\n",
       "  }\n",
       "\n",
       "  .colab-df-quickchart {\n",
       "    background-color: var(--bg-color);\n",
       "    border: none;\n",
       "    border-radius: 50%;\n",
       "    cursor: pointer;\n",
       "    display: none;\n",
       "    fill: var(--fill-color);\n",
       "    height: 32px;\n",
       "    padding: 0;\n",
       "    width: 32px;\n",
       "  }\n",
       "\n",
       "  .colab-df-quickchart:hover {\n",
       "    background-color: var(--hover-bg-color);\n",
       "    box-shadow: 0 1px 2px rgba(60, 64, 67, 0.3), 0 1px 3px 1px rgba(60, 64, 67, 0.15);\n",
       "    fill: var(--button-hover-fill-color);\n",
       "  }\n",
       "\n",
       "  .colab-df-quickchart-complete:disabled,\n",
       "  .colab-df-quickchart-complete:disabled:hover {\n",
       "    background-color: var(--disabled-bg-color);\n",
       "    fill: var(--disabled-fill-color);\n",
       "    box-shadow: none;\n",
       "  }\n",
       "\n",
       "  .colab-df-spinner {\n",
       "    border: 2px solid var(--fill-color);\n",
       "    border-color: transparent;\n",
       "    border-bottom-color: var(--fill-color);\n",
       "    animation:\n",
       "      spin 1s steps(1) infinite;\n",
       "  }\n",
       "\n",
       "  @keyframes spin {\n",
       "    0% {\n",
       "      border-color: transparent;\n",
       "      border-bottom-color: var(--fill-color);\n",
       "      border-left-color: var(--fill-color);\n",
       "    }\n",
       "    20% {\n",
       "      border-color: transparent;\n",
       "      border-left-color: var(--fill-color);\n",
       "      border-top-color: var(--fill-color);\n",
       "    }\n",
       "    30% {\n",
       "      border-color: transparent;\n",
       "      border-left-color: var(--fill-color);\n",
       "      border-top-color: var(--fill-color);\n",
       "      border-right-color: var(--fill-color);\n",
       "    }\n",
       "    40% {\n",
       "      border-color: transparent;\n",
       "      border-right-color: var(--fill-color);\n",
       "      border-top-color: var(--fill-color);\n",
       "    }\n",
       "    60% {\n",
       "      border-color: transparent;\n",
       "      border-right-color: var(--fill-color);\n",
       "    }\n",
       "    80% {\n",
       "      border-color: transparent;\n",
       "      border-right-color: var(--fill-color);\n",
       "      border-bottom-color: var(--fill-color);\n",
       "    }\n",
       "    90% {\n",
       "      border-color: transparent;\n",
       "      border-bottom-color: var(--fill-color);\n",
       "    }\n",
       "  }\n",
       "</style>\n",
       "\n",
       "  <script>\n",
       "    async function quickchart(key) {\n",
       "      const quickchartButtonEl =\n",
       "        document.querySelector('#' + key + ' button');\n",
       "      quickchartButtonEl.disabled = true;  // To prevent multiple clicks.\n",
       "      quickchartButtonEl.classList.add('colab-df-spinner');\n",
       "      try {\n",
       "        const charts = await google.colab.kernel.invokeFunction(\n",
       "            'suggestCharts', [key], {});\n",
       "      } catch (error) {\n",
       "        console.error('Error during call to suggestCharts:', error);\n",
       "      }\n",
       "      quickchartButtonEl.classList.remove('colab-df-spinner');\n",
       "      quickchartButtonEl.classList.add('colab-df-quickchart-complete');\n",
       "    }\n",
       "    (() => {\n",
       "      let quickchartButtonEl =\n",
       "        document.querySelector('#df-7aa00db0-c0f4-4579-bc27-7d892eb51dee button');\n",
       "      quickchartButtonEl.style.display =\n",
       "        google.colab.kernel.accessAllowed ? 'block' : 'none';\n",
       "    })();\n",
       "  </script>\n",
       "</div>\n",
       "\n",
       "  <div id=\"id_b4c2e7e8-a675-4c5a-98d2-d4dd96237e00\">\n",
       "    <style>\n",
       "      .colab-df-generate {\n",
       "        background-color: #E8F0FE;\n",
       "        border: none;\n",
       "        border-radius: 50%;\n",
       "        cursor: pointer;\n",
       "        display: none;\n",
       "        fill: #1967D2;\n",
       "        height: 32px;\n",
       "        padding: 0 0 0 0;\n",
       "        width: 32px;\n",
       "      }\n",
       "\n",
       "      .colab-df-generate:hover {\n",
       "        background-color: #E2EBFA;\n",
       "        box-shadow: 0px 1px 2px rgba(60, 64, 67, 0.3), 0px 1px 3px 1px rgba(60, 64, 67, 0.15);\n",
       "        fill: #174EA6;\n",
       "      }\n",
       "\n",
       "      [theme=dark] .colab-df-generate {\n",
       "        background-color: #3B4455;\n",
       "        fill: #D2E3FC;\n",
       "      }\n",
       "\n",
       "      [theme=dark] .colab-df-generate:hover {\n",
       "        background-color: #434B5C;\n",
       "        box-shadow: 0px 1px 3px 1px rgba(0, 0, 0, 0.15);\n",
       "        filter: drop-shadow(0px 1px 2px rgba(0, 0, 0, 0.3));\n",
       "        fill: #FFFFFF;\n",
       "      }\n",
       "    </style>\n",
       "    <button class=\"colab-df-generate\" onclick=\"generateWithVariable('results')\"\n",
       "            title=\"Generate code using this dataframe.\"\n",
       "            style=\"display:none;\">\n",
       "\n",
       "  <svg xmlns=\"http://www.w3.org/2000/svg\" height=\"24px\"viewBox=\"0 0 24 24\"\n",
       "       width=\"24px\">\n",
       "    <path d=\"M7,19H8.4L18.45,9,17,7.55,7,17.6ZM5,21V16.75L18.45,3.32a2,2,0,0,1,2.83,0l1.4,1.43a1.91,1.91,0,0,1,.58,1.4,1.91,1.91,0,0,1-.58,1.4L9.25,21ZM18.45,9,17,7.55Zm-12,3A5.31,5.31,0,0,0,4.9,8.1,5.31,5.31,0,0,0,1,6.5,5.31,5.31,0,0,0,4.9,4.9,5.31,5.31,0,0,0,6.5,1,5.31,5.31,0,0,0,8.1,4.9,5.31,5.31,0,0,0,12,6.5,5.46,5.46,0,0,0,6.5,12Z\"/>\n",
       "  </svg>\n",
       "    </button>\n",
       "    <script>\n",
       "      (() => {\n",
       "      const buttonEl =\n",
       "        document.querySelector('#id_b4c2e7e8-a675-4c5a-98d2-d4dd96237e00 button.colab-df-generate');\n",
       "      buttonEl.style.display =\n",
       "        google.colab.kernel.accessAllowed ? 'block' : 'none';\n",
       "\n",
       "      buttonEl.onclick = () => {\n",
       "        google.colab.notebook.generateWithVariable('results');\n",
       "      }\n",
       "      })();\n",
       "    </script>\n",
       "  </div>\n",
       "\n",
       "    </div>\n",
       "  </div>\n"
      ],
      "text/plain": [
       "                 xl        xu        x1        x2     f(x1)     f(x2)  \\\n",
       "Iteración                                                               \n",
       "0          0.000000  4.000000  2.472136  1.527864  0.629974  1.764720   \n",
       "1          0.000000  2.472136  1.527864  0.944272  1.764720  1.530976   \n",
       "2          0.944272  2.472136  1.888544  1.527864  1.543223  1.764720   \n",
       "3          0.944272  1.888544  1.527864  1.304952  1.764720  1.759452   \n",
       "4          1.304952  1.888544  1.665631  1.527864  1.713580  1.764720   \n",
       "5          1.304952  1.665631  1.527864  1.442719  1.764720  1.775475   \n",
       "6          1.304952  1.527864  1.442719  1.390097  1.775475  1.774200   \n",
       "7          1.390097  1.527864  1.475242  1.442719  1.773242  1.775475   \n",
       "8          1.390097  1.475242  1.442719  1.422619  1.775475  1.775699   \n",
       "9          1.390097  1.442719  1.422619  1.410197  1.775699  1.775398   \n",
       "10         1.410197  1.442719  1.430297  1.422619  1.775717  1.775699   \n",
       "11         1.422619  1.442719  1.435042  1.430297  1.775665  1.775717   \n",
       "12         1.422619  1.435042  1.430297  1.427364  1.775717  1.775726   \n",
       "13         1.422619  1.430297  1.427364  1.425552  1.775726  1.775721   \n",
       "14         1.425552  1.430297  1.428484  1.427364  1.775725  1.775726   \n",
       "15         1.425552  1.428484  1.427364  1.426672  1.775726  1.775725   \n",
       "16         1.426672  1.428484  1.427792  1.427364  1.775726  1.775726   \n",
       "17         1.426672  1.427792  1.427364  1.427100  1.775726  1.775725   \n",
       "18         1.427100  1.427792  1.427527  1.427364  1.775726  1.775726   \n",
       "19         1.427364  1.427792  1.427628  1.427527  1.775726  1.775726   \n",
       "20         1.427364  1.427628  1.427527  1.427465  1.775726  1.775726   \n",
       "21         1.427465  1.427628  1.427566  1.427527  1.775726  1.775726   \n",
       "22         1.427527  1.427628  1.427590  1.427566  1.775726  1.775726   \n",
       "23         1.427527  1.427590  1.427566  1.427551  1.775726  1.775726   \n",
       "24         1.427527  1.427566  1.427551  1.427542  1.775726  1.775726   \n",
       "25         1.427542  1.427566  1.427557  1.427551  1.775726  1.775726   \n",
       "26         1.427542  1.427557  1.427551  1.427548  1.775726  1.775726   \n",
       "27         1.427548  1.427557  1.427553  1.427551  1.775726  1.775726   \n",
       "28         1.427548  1.427553  1.427551  1.427550  1.775726  1.775726   \n",
       "29         1.427550  1.427553  1.427552  1.427551  1.775726  1.775726   \n",
       "\n",
       "                  d         Error  \n",
       "Iteración                          \n",
       "0          2.472136  9.442719e-01  \n",
       "1          1.527864  5.835921e-01  \n",
       "2          0.944272  3.606798e-01  \n",
       "3          0.583592  2.229124e-01  \n",
       "4          0.360680  1.377674e-01  \n",
       "5          0.222912  8.514495e-02  \n",
       "6          0.137767  5.262247e-02  \n",
       "7          0.085145  3.252248e-02  \n",
       "8          0.052622  2.009999e-02  \n",
       "9          0.032522  1.242248e-02  \n",
       "10         0.020100  7.677515e-03  \n",
       "11         0.012422  4.744965e-03  \n",
       "12         0.007678  2.932550e-03  \n",
       "13         0.004745  1.812415e-03  \n",
       "14         0.002933  1.120134e-03  \n",
       "15         0.001812  6.922811e-04  \n",
       "16         0.001120  4.278532e-04  \n",
       "17         0.000692  2.644278e-04  \n",
       "18         0.000428  1.634254e-04  \n",
       "19         0.000264  1.010024e-04  \n",
       "20         0.000163  6.242295e-05  \n",
       "21         0.000101  3.857950e-05  \n",
       "22         0.000062  2.384344e-05  \n",
       "23         0.000039  1.473606e-05  \n",
       "24         0.000024  9.107385e-06  \n",
       "25         0.000015  5.628674e-06  \n",
       "26         0.000009  3.478712e-06  \n",
       "27         0.000006  2.149962e-06  \n",
       "28         0.000003  1.328750e-06  \n",
       "29         0.000002  8.212124e-07  "
      ]
     },
     "execution_count": 75,
     "metadata": {},
     "output_type": "execute_result"
    }
   ],
   "source": [
    "results = pd.DataFrame(data=df,columns=['Iteración','xl','xu','x1','x2','f(x1)','f(x2)','d','Error']).set_index('Iteración')\n",
    "results"
   ]
  },
  {
   "cell_type": "code",
   "execution_count": 76,
   "metadata": {
    "colab": {
     "base_uri": "https://localhost:8080/",
     "height": 472
    },
    "executionInfo": {
     "elapsed": 123,
     "status": "ok",
     "timestamp": 1742580727047,
     "user": {
      "displayName": "EFRAÍN GARC�A VALENCIA",
      "userId": "07090753714787850374"
     },
     "user_tz": 300
    },
    "id": "G49B39IvG9zb",
    "outputId": "94541151-74b7-4288-f4eb-73bccad72d38"
   },
   "outputs": [
    {
     "data": {
      "image/png": "[encoded data removed]",
      "text/plain": [
       "<Figure size 640x480 with 1 Axes>"
      ]
     },
     "metadata": {},
     "output_type": "display_data"
    }
   ],
   "source": [
    "plt.plot(results.index, results[\"Error\"])\n",
    "plt.xlabel(\"Iteración\")\n",
    "plt.ylabel(\"Error\")\n",
    "plt.title(\"Error en cada iteración\")\n",
    "plt.grid(True)\n",
    "plt.show()"
   ]
  },
  {
   "cell_type": "code",
   "execution_count": 76,
   "metadata": {
    "executionInfo": {
     "elapsed": 16,
     "status": "ok",
     "timestamp": 1742580727066,
     "user": {
      "displayName": "EFRAÍN GARC�A VALENCIA",
      "userId": "07090753714787850374"
     },
     "user_tz": 300
    },
    "id": "lWcDfyKyzhZQ"
   },
   "outputs": [],
   "source": []
  }
 ],
 "metadata": {
  "colab": {
   "authorship_tag": "ABX9TyO2PhPzWhj5VG8OaG99laf0",
   "provenance": [
    {
     "file_id": "1YWrHPJN6cRR9ez6mDL5jUJQkJIxqLrDK",
     "timestamp": 1742577628752
    }
   ]
  },
  "kernelspec": {
   "display_name": ".conda",
   "language": "python",
   "name": "python3"
  },
  "language_info": {
   "name": "python",
   "version": "3.11.13"
  }
 },
 "nbformat": 4,
 "nbformat_minor": 0
}
