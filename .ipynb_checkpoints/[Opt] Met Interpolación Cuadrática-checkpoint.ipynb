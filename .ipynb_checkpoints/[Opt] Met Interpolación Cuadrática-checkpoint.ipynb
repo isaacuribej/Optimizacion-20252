{
 "cells": [
  {
   "cell_type": "markdown",
   "metadata": {
    "id": "D5IF3-P6lcls"
   },
   "source": [
    "# **Método de la Interpolación Cuadrática**\n",
    "Isaac Esteban Uribe Jaramillo\n"
   ]
  },
  {
   "cell_type": "markdown",
   "metadata": {
    "id": "erw2OfKgBO6e"
   },
   "source": [
    "## **1. Importamos librerías**"
   ]
  },
  {
   "cell_type": "code",
   "execution_count": null,
   "metadata": {
    "id": "q3lR0v46gMTQ"
   },
   "outputs": [],
   "source": [
    "import numpy as np\n",
    "import matplotlib.pyplot as plt\n",
    "import pandas as pd\n",
    "import math"
   ]
  },
  {
   "cell_type": "markdown",
   "metadata": {
    "id": "XwCOWfmLBU-i"
   },
   "source": [
    "## **2. Inicialización y pre-procesamiento**"
   ]
  },
  {
   "cell_type": "markdown",
   "metadata": {
    "id": "lFEVqBUoJHNf"
   },
   "source": [
    "### 2.1 Definimos la función y su gráfica"
   ]
  },
  {
   "cell_type": "code",
   "execution_count": null,
   "metadata": {
    "id": "XMhL8wfYJZNA"
   },
   "outputs": [],
   "source": [
    "#fx  = lambda x: 3*x**2 - 120*x + 100\n",
    "#fx  = lambda x: x**3 - x**2 + 2\n",
    "#fx  = lambda x: 7*x**4 - 4*x**3\n",
    "fx = lambda x: 2*np.sin(x) - (x**2 / 10)"
   ]
  },
  {
   "cell_type": "code",
   "execution_count": null,
   "metadata": {
    "colab": {
     "base_uri": "https://localhost:8080/",
     "height": 472
    },
    "executionInfo": {
     "elapsed": 377,
     "status": "ok",
     "timestamp": 1742577369087,
     "user": {
      "displayName": "EFRAÍN GARC�A VALENCIA",
      "userId": "07090753714787850374"
     },
     "user_tz": 300
    },
    "id": "gQMbNymnNhIh",
    "outputId": "47aad6fe-f968-4bda-8354-bc6c47aa85ec"
   },
   "outputs": [
    {
     "data": {
      "image/png": "[encoded data removed]",
      "text/plain": [
       "<Figure size 640x480 with 1 Axes>"
      ]
     },
     "metadata": {},
     "output_type": "display_data"
    }
   ],
   "source": [
    "x = np.linspace(-5, 5, 100)\n",
    "y = fx(x)\n",
    "plt.plot(x, y)\n",
    "plt.plot(0, fx(0), 'ro')\n",
    "plt.plot(1, fx(1), 'ro')\n",
    "plt.plot(4, fx(4), 'ro')\n",
    "plt.xlabel('x')\n",
    "plt.ylabel('f(x)')\n",
    "plt.title('Graph of f(x)')\n",
    "plt.grid(True)\n",
    "plt.show()"
   ]
  },
  {
   "cell_type": "markdown",
   "metadata": {
    "id": "RoH5PADoJLpo"
   },
   "source": [
    "### 2.2 Seleccionamos valores iniciales para Xl, Xu, Err"
   ]
  },
  {
   "cell_type": "code",
   "execution_count": null,
   "metadata": {
    "id": "uPe33o01gYkG"
   },
   "outputs": [],
   "source": [
    "x0, x1, x2 = 0, 1, 4\n",
    "# xl, xu = -2, 2\n",
    "err = 0.000001"
   ]
  },
  {
   "cell_type": "markdown",
   "metadata": {
    "id": "aWHAKefMJ5xH"
   },
   "source": [
    "### 2.3 Inicializamos el Dataframe"
   ]
  },
  {
   "cell_type": "code",
   "execution_count": null,
   "metadata": {
    "id": "GpeaI3CqFXHV"
   },
   "outputs": [],
   "source": [
    "df = []"
   ]
  },
  {
   "cell_type": "markdown",
   "metadata": {
    "id": "r4pjtZJJJ9XP"
   },
   "source": [
    "### 2.4 Determinamos cuantas iteraciones necesitamos para llegar a la convergencia"
   ]
  },
  {
   "cell_type": "code",
   "execution_count": null,
   "metadata": {
    "id": "uy3IxjJTIfe1"
   },
   "outputs": [],
   "source": [
    "def iteracionesMaximas(xl,xu,err):\n",
    "  return int(np.log2((xu - xl) / err) - 1)"
   ]
  },
  {
   "cell_type": "markdown",
   "metadata": {
    "id": "dbFYSi4uEu9V"
   },
   "source": [
    "## **3. Algorítmo de la Interpolación cuadrática**"
   ]
  },
  {
   "cell_type": "code",
   "execution_count": null,
   "metadata": {
    "id": "KCM5Ua_r2-kU"
   },
   "outputs": [],
   "source": [
    "def interpolacionCuadratica(fx,x0,x1,x2,err):\n",
    "  '''\n",
    "  El algoritmo se detiene cuando el cambio en el error entre iteraciones sea menor a err\n",
    "  '''\n",
    "  error2 = 0\n",
    "  for i in range(100):\n",
    "    f_x0, f_x1, f_x2 = fx(x0), fx(x1), fx(x2)\n",
    "    x3 = (f_x0*(x1**2 - x2**2) + f_x1*(x2**2 - x0**2) + f_x2*(x0**2 - x1**2)) / (2*f_x0*(x1 - x2) + 2*f_x1*(x2 - x0) + 2*f_x2*(x0 - x1))\n",
    "    f_x3 = fx(x3)\n",
    "    df.append([i,x0,x1,x2,x3,f_x0,f_x1,f_x2,f_x3,abs(x0 - x2)])\n",
    "    error1 = abs(x0 - x2)\n",
    "    if abs(error1 - error2) < err:\n",
    "      return x3\n",
    "    error2 = error1\n",
    "    if f_x3 > f_x1 and x3 > x1:\n",
    "      x0, x1, x2 = x1, x3, x2\n",
    "    else:\n",
    "      x0, x1, x2 = x0, x1, x3\n",
    "  return x3"
   ]
  },
  {
   "cell_type": "markdown",
   "metadata": {
    "id": "XwJNYUwzK9eI"
   },
   "source": [
    "## **4. Obtención de resultados**"
   ]
  },
  {
   "cell_type": "code",
   "execution_count": null,
   "metadata": {
    "colab": {
     "base_uri": "https://localhost:8080/"
    },
    "executionInfo": {
     "elapsed": 247,
     "status": "ok",
     "timestamp": 1742577369355,
     "user": {
      "displayName": "EFRAÍN GARC�A VALENCIA",
      "userId": "07090753714787850374"
     },
     "user_tz": 300
    },
    "id": "O2Fij55Gg6Zb",
    "outputId": "c6d41662-8ce7-4263-e1af-0812f0a084bd"
   },
   "outputs": [
    {
     "name": "stdout",
     "output_type": "stream",
     "text": [
      "La raíz se encuentra aproximadamente en:  1.4263738248707356\n"
     ]
    }
   ],
   "source": [
    "#itermax = iteracionesMaximas(xl,xu,err)\n",
    "#print(\"Iteraciones máximas: \", itermax)\n",
    "r = interpolacionCuadratica(fx,x0,x1,x2,err)\n",
    "print(\"La raíz se encuentra aproximadamente en: \", r)"
   ]
  },
  {
   "cell_type": "code",
   "execution_count": null,
   "metadata": {
    "colab": {
     "base_uri": "https://localhost:8080/",
     "height": 300
    },
    "executionInfo": {
     "elapsed": 248,
     "status": "ok",
     "timestamp": 1742577369375,
     "user": {
      "displayName": "EFRAÍN GARC�A VALENCIA",
      "userId": "07090753714787850374"
     },
     "user_tz": 300
    },
    "id": "ChpZfHteD4xe",
    "outputId": "0bc407b1-b726-46b7-dadf-77c2d63209fd"
   },
   "outputs": [
    {
     "data": {
      "application/vnd.google.colaboratory.intrinsic+json": {
       "summary": "{\n  \"name\": \"results\",\n  \"rows\": 7,\n  \"fields\": [\n    {\n      \"column\": \"Iteraci\\u00f3n\",\n      \"properties\": {\n        \"dtype\": \"number\",\n        \"std\": 2,\n        \"min\": 0,\n        \"max\": 6,\n        \"num_unique_values\": 7,\n        \"samples\": [\n          0,\n          1,\n          5\n        ],\n        \"semantic_type\": \"\",\n        \"description\": \"\"\n      }\n    },\n    {\n      \"column\": \"x0\",\n      \"properties\": {\n        \"dtype\": \"number\",\n        \"std\": 0,\n        \"min\": 0,\n        \"max\": 1,\n        \"num_unique_values\": 2,\n        \"samples\": [\n          1,\n          0\n        ],\n        \"semantic_type\": \"\",\n        \"description\": \"\"\n      }\n    },\n    {\n      \"column\": \"x1\",\n      \"properties\": {\n        \"dtype\": \"number\",\n        \"std\": 0.1910742222352888,\n        \"min\": 1.0,\n        \"max\": 1.5055348739896623,\n        \"num_unique_values\": 2,\n        \"samples\": [\n          1.5055348739896623,\n          1.0\n        ],\n        \"semantic_type\": \"\",\n        \"description\": \"\"\n      }\n    },\n    {\n      \"column\": \"x2\",\n      \"properties\": {\n        \"dtype\": \"number\",\n        \"std\": 1.2498571060567145,\n        \"min\": 1.425635954284261,\n        \"max\": 4.0,\n        \"num_unique_values\": 6,\n        \"samples\": [\n          4.0,\n          1.4902527508500858\n        ],\n        \"semantic_type\": \"\",\n        \"description\": \"\"\n      }\n    },\n    {\n      \"column\": \"x3\",\n      \"properties\": {\n        \"dtype\": \"number\",\n        \"std\": 0.035247512569649926,\n        \"min\": 1.425635954284261,\n        \"max\": 1.5055348739896623,\n        \"num_unique_values\": 7,\n        \"samples\": [\n          1.5055348739896623,\n          1.4902527508500858\n        ],\n        \"semantic_type\": \"\",\n        \"description\": \"\"\n      }\n    },\n    {\n      \"column\": \"f(x0)\",\n      \"properties\": {\n        \"dtype\": \"number\",\n        \"std\": 0.5982958273500213,\n        \"min\": 0.0,\n        \"max\": 1.582941969615793,\n        \"num_unique_values\": 2,\n        \"samples\": [\n          1.582941969615793,\n          0.0\n        ],\n        \"semantic_type\": \"\",\n        \"description\": \"\"\n      }\n    },\n    {\n      \"column\": \"f(x1)\",\n      \"properties\": {\n        \"dtype\": \"number\",\n        \"std\": 0.07035315757748495,\n        \"min\": 1.582941969615793,\n        \"max\": 1.7690789285139574,\n        \"num_unique_values\": 2,\n        \"samples\": [\n          1.7690789285139574,\n          1.582941969615793\n        ],\n        \"semantic_type\": \"\",\n        \"description\": \"\"\n      }\n    },\n    {\n      \"column\": \"f(x2)\",\n      \"properties\": {\n        \"dtype\": \"number\",\n        \"std\": 2.3853296264614627,\n        \"min\": -3.1136049906158565,\n        \"max\": 1.7757241646184077,\n        \"num_unique_values\": 6,\n        \"samples\": [\n          -3.1136049906158565,\n          1.77143091252755\n        ],\n        \"semantic_type\": \"\",\n        \"description\": \"\"\n      }\n    },\n    {\n      \"column\": \"f(x3)\",\n      \"properties\": {\n        \"dtype\": \"number\",\n        \"std\": 0.0027534881182538513,\n        \"min\": 1.7690789285139574,\n        \"max\": 1.7757241646184077,\n        \"num_unique_values\": 7,\n        \"samples\": [\n          1.7690789285139574,\n          1.77143091252755\n        ],\n        \"semantic_type\": \"\",\n        \"description\": \"\"\n      }\n    },\n    {\n      \"column\": \"Error\",\n      \"properties\": {\n        \"dtype\": \"number\",\n        \"std\": 1.5214338355407335,\n        \"min\": 0.42563595428426093,\n        \"max\": 4.0,\n        \"num_unique_values\": 7,\n        \"samples\": [\n          4.0,\n          3.0\n        ],\n        \"semantic_type\": \"\",\n        \"description\": \"\"\n      }\n    }\n  ]\n}",
       "type": "dataframe",
       "variable_name": "results"
      },
      "text/html": [
       "\n",
       "  <div id=\"df-875312ab-4310-46db-8237-88561dd7ddb7\" class=\"colab-df-container\">\n",
       "    <div>\n",
       "<style scoped>\n",
       "    .dataframe tbody tr th:only-of-type {\n",
       "        vertical-align: middle;\n",
       "    }\n",
       "\n",
       "    .dataframe tbody tr th {\n",
       "        vertical-align: top;\n",
       "    }\n",
       "\n",
       "    .dataframe thead th {\n",
       "        text-align: right;\n",
       "    }\n",
       "</style>\n",
       "<table border=\"1\" class=\"dataframe\">\n",
       "  <thead>\n",
       "    <tr style=\"text-align: right;\">\n",
       "      <th></th>\n",
       "      <th>x0</th>\n",
       "      <th>x1</th>\n",
       "      <th>x2</th>\n",
       "      <th>x3</th>\n",
       "      <th>f(x0)</th>\n",
       "      <th>f(x1)</th>\n",
       "      <th>f(x2)</th>\n",
       "      <th>f(x3)</th>\n",
       "      <th>Error</th>\n",
       "    </tr>\n",
       "    <tr>\n",
       "      <th>Iteración</th>\n",
       "      <th></th>\n",
       "      <th></th>\n",
       "      <th></th>\n",
       "      <th></th>\n",
       "      <th></th>\n",
       "      <th></th>\n",
       "      <th></th>\n",
       "      <th></th>\n",
       "      <th></th>\n",
       "    </tr>\n",
       "  </thead>\n",
       "  <tbody>\n",
       "    <tr>\n",
       "      <th>0</th>\n",
       "      <td>0</td>\n",
       "      <td>1.000000</td>\n",
       "      <td>4.000000</td>\n",
       "      <td>1.505535</td>\n",
       "      <td>0.000000</td>\n",
       "      <td>1.582942</td>\n",
       "      <td>-3.113605</td>\n",
       "      <td>1.769079</td>\n",
       "      <td>4.000000</td>\n",
       "    </tr>\n",
       "    <tr>\n",
       "      <th>1</th>\n",
       "      <td>1</td>\n",
       "      <td>1.505535</td>\n",
       "      <td>4.000000</td>\n",
       "      <td>1.490253</td>\n",
       "      <td>1.582942</td>\n",
       "      <td>1.769079</td>\n",
       "      <td>-3.113605</td>\n",
       "      <td>1.771431</td>\n",
       "      <td>3.000000</td>\n",
       "    </tr>\n",
       "    <tr>\n",
       "      <th>2</th>\n",
       "      <td>1</td>\n",
       "      <td>1.505535</td>\n",
       "      <td>1.490253</td>\n",
       "      <td>1.425636</td>\n",
       "      <td>1.582942</td>\n",
       "      <td>1.769079</td>\n",
       "      <td>1.771431</td>\n",
       "      <td>1.775722</td>\n",
       "      <td>0.490253</td>\n",
       "    </tr>\n",
       "    <tr>\n",
       "      <th>3</th>\n",
       "      <td>1</td>\n",
       "      <td>1.505535</td>\n",
       "      <td>1.425636</td>\n",
       "      <td>1.426383</td>\n",
       "      <td>1.582942</td>\n",
       "      <td>1.769079</td>\n",
       "      <td>1.775722</td>\n",
       "      <td>1.775724</td>\n",
       "      <td>0.425636</td>\n",
       "    </tr>\n",
       "    <tr>\n",
       "      <th>4</th>\n",
       "      <td>1</td>\n",
       "      <td>1.505535</td>\n",
       "      <td>1.426383</td>\n",
       "      <td>1.426374</td>\n",
       "      <td>1.582942</td>\n",
       "      <td>1.769079</td>\n",
       "      <td>1.775724</td>\n",
       "      <td>1.775724</td>\n",
       "      <td>0.426383</td>\n",
       "    </tr>\n",
       "    <tr>\n",
       "      <th>5</th>\n",
       "      <td>1</td>\n",
       "      <td>1.505535</td>\n",
       "      <td>1.426374</td>\n",
       "      <td>1.426374</td>\n",
       "      <td>1.582942</td>\n",
       "      <td>1.769079</td>\n",
       "      <td>1.775724</td>\n",
       "      <td>1.775724</td>\n",
       "      <td>0.426374</td>\n",
       "    </tr>\n",
       "    <tr>\n",
       "      <th>6</th>\n",
       "      <td>1</td>\n",
       "      <td>1.505535</td>\n",
       "      <td>1.426374</td>\n",
       "      <td>1.426374</td>\n",
       "      <td>1.582942</td>\n",
       "      <td>1.769079</td>\n",
       "      <td>1.775724</td>\n",
       "      <td>1.775724</td>\n",
       "      <td>0.426374</td>\n",
       "    </tr>\n",
       "  </tbody>\n",
       "</table>\n",
       "</div>\n",
       "    <div class=\"colab-df-buttons\">\n",
       "\n",
       "  <div class=\"colab-df-container\">\n",
       "    <button class=\"colab-df-convert\" onclick=\"convertToInteractive('df-875312ab-4310-46db-8237-88561dd7ddb7')\"\n",
       "            title=\"Convert this dataframe to an interactive table.\"\n",
       "            style=\"display:none;\">\n",
       "\n",
       "  <svg xmlns=\"http://www.w3.org/2000/svg\" height=\"24px\" viewBox=\"0 -960 960 960\">\n",
       "    <path d=\"M120-120v-720h720v720H120Zm60-500h600v-160H180v160Zm220 220h160v-160H400v160Zm0 220h160v-160H400v160ZM180-400h160v-160H180v160Zm440 0h160v-160H620v160ZM180-180h160v-160H180v160Zm440 0h160v-160H620v160Z\"/>\n",
       "  </svg>\n",
       "    </button>\n",
       "\n",
       "  <style>\n",
       "    .colab-df-container {\n",
       "      display:flex;\n",
       "      gap: 12px;\n",
       "    }\n",
       "\n",
       "    .colab-df-convert {\n",
       "      background-color: #E8F0FE;\n",
       "      border: none;\n",
       "      border-radius: 50%;\n",
       "      cursor: pointer;\n",
       "      display: none;\n",
       "      fill: #1967D2;\n",
       "      height: 32px;\n",
       "      padding: 0 0 0 0;\n",
       "      width: 32px;\n",
       "    }\n",
       "\n",
       "    .colab-df-convert:hover {\n",
       "      background-color: #E2EBFA;\n",
       "      box-shadow: 0px 1px 2px rgba(60, 64, 67, 0.3), 0px 1px 3px 1px rgba(60, 64, 67, 0.15);\n",
       "      fill: #174EA6;\n",
       "    }\n",
       "\n",
       "    .colab-df-buttons div {\n",
       "      margin-bottom: 4px;\n",
       "    }\n",
       "\n",
       "    [theme=dark] .colab-df-convert {\n",
       "      background-color: #3B4455;\n",
       "      fill: #D2E3FC;\n",
       "    }\n",
       "\n",
       "    [theme=dark] .colab-df-convert:hover {\n",
       "      background-color: #434B5C;\n",
       "      box-shadow: 0px 1px 3px 1px rgba(0, 0, 0, 0.15);\n",
       "      filter: drop-shadow(0px 1px 2px rgba(0, 0, 0, 0.3));\n",
       "      fill: #FFFFFF;\n",
       "    }\n",
       "  </style>\n",
       "\n",
       "    <script>\n",
       "      const buttonEl =\n",
       "        document.querySelector('#df-875312ab-4310-46db-8237-88561dd7ddb7 button.colab-df-convert');\n",
       "      buttonEl.style.display =\n",
       "        google.colab.kernel.accessAllowed ? 'block' : 'none';\n",
       "\n",
       "      async function convertToInteractive(key) {\n",
       "        const element = document.querySelector('#df-875312ab-4310-46db-8237-88561dd7ddb7');\n",
       "        const dataTable =\n",
       "          await google.colab.kernel.invokeFunction('convertToInteractive',\n",
       "                                                    [key], {});\n",
       "        if (!dataTable) return;\n",
       "\n",
       "        const docLinkHtml = 'Like what you see? Visit the ' +\n",
       "          '<a target=\"_blank\" href=https://colab.research.google.com/notebooks/data_table.ipynb>data table notebook</a>'\n",
       "          + ' to learn more about interactive tables.';\n",
       "        element.innerHTML = '';\n",
       "        dataTable['output_type'] = 'display_data';\n",
       "        await google.colab.output.renderOutput(dataTable, element);\n",
       "        const docLink = document.createElement('div');\n",
       "        docLink.innerHTML = docLinkHtml;\n",
       "        element.appendChild(docLink);\n",
       "      }\n",
       "    </script>\n",
       "  </div>\n",
       "\n",
       "\n",
       "<div id=\"df-f2b27a3c-0312-4a40-b226-2985eb1ec38b\">\n",
       "  <button class=\"colab-df-quickchart\" onclick=\"quickchart('df-f2b27a3c-0312-4a40-b226-2985eb1ec38b')\"\n",
       "            title=\"Suggest charts\"\n",
       "            style=\"display:none;\">\n",
       "\n",
       "<svg xmlns=\"http://www.w3.org/2000/svg\" height=\"24px\"viewBox=\"0 0 24 24\"\n",
       "     width=\"24px\">\n",
       "    <g>\n",
       "        <path d=\"M19 3H5c-1.1 0-2 .9-2 2v14c0 1.1.9 2 2 2h14c1.1 0 2-.9 2-2V5c0-1.1-.9-2-2-2zM9 17H7v-7h2v7zm4 0h-2V7h2v10zm4 0h-2v-4h2v4z\"/>\n",
       "    </g>\n",
       "</svg>\n",
       "  </button>\n",
       "\n",
       "<style>\n",
       "  .colab-df-quickchart {\n",
       "      --bg-color: #E8F0FE;\n",
       "      --fill-color: #1967D2;\n",
       "      --hover-bg-color: #E2EBFA;\n",
       "      --hover-fill-color: #174EA6;\n",
       "      --disabled-fill-color: #AAA;\n",
       "      --disabled-bg-color: #DDD;\n",
       "  }\n",
       "\n",
       "  [theme=dark] .colab-df-quickchart {\n",
       "      --bg-color: #3B4455;\n",
       "      --fill-color: #D2E3FC;\n",
       "      --hover-bg-color: #434B5C;\n",
       "      --hover-fill-color: #FFFFFF;\n",
       "      --disabled-bg-color: #3B4455;\n",
       "      --disabled-fill-color: #666;\n",
       "  }\n",
       "\n",
       "  .colab-df-quickchart {\n",
       "    background-color: var(--bg-color);\n",
       "    border: none;\n",
       "    border-radius: 50%;\n",
       "    cursor: pointer;\n",
       "    display: none;\n",
       "    fill: var(--fill-color);\n",
       "    height: 32px;\n",
       "    padding: 0;\n",
       "    width: 32px;\n",
       "  }\n",
       "\n",
       "  .colab-df-quickchart:hover {\n",
       "    background-color: var(--hover-bg-color);\n",
       "    box-shadow: 0 1px 2px rgba(60, 64, 67, 0.3), 0 1px 3px 1px rgba(60, 64, 67, 0.15);\n",
       "    fill: var(--button-hover-fill-color);\n",
       "  }\n",
       "\n",
       "  .colab-df-quickchart-complete:disabled,\n",
       "  .colab-df-quickchart-complete:disabled:hover {\n",
       "    background-color: var(--disabled-bg-color);\n",
       "    fill: var(--disabled-fill-color);\n",
       "    box-shadow: none;\n",
       "  }\n",
       "\n",
       "  .colab-df-spinner {\n",
       "    border: 2px solid var(--fill-color);\n",
       "    border-color: transparent;\n",
       "    border-bottom-color: var(--fill-color);\n",
       "    animation:\n",
       "      spin 1s steps(1) infinite;\n",
       "  }\n",
       "\n",
       "  @keyframes spin {\n",
       "    0% {\n",
       "      border-color: transparent;\n",
       "      border-bottom-color: var(--fill-color);\n",
       "      border-left-color: var(--fill-color);\n",
       "    }\n",
       "    20% {\n",
       "      border-color: transparent;\n",
       "      border-left-color: var(--fill-color);\n",
       "      border-top-color: var(--fill-color);\n",
       "    }\n",
       "    30% {\n",
       "      border-color: transparent;\n",
       "      border-left-color: var(--fill-color);\n",
       "      border-top-color: var(--fill-color);\n",
       "      border-right-color: var(--fill-color);\n",
       "    }\n",
       "    40% {\n",
       "      border-color: transparent;\n",
       "      border-right-color: var(--fill-color);\n",
       "      border-top-color: var(--fill-color);\n",
       "    }\n",
       "    60% {\n",
       "      border-color: transparent;\n",
       "      border-right-color: var(--fill-color);\n",
       "    }\n",
       "    80% {\n",
       "      border-color: transparent;\n",
       "      border-right-color: var(--fill-color);\n",
       "      border-bottom-color: var(--fill-color);\n",
       "    }\n",
       "    90% {\n",
       "      border-color: transparent;\n",
       "      border-bottom-color: var(--fill-color);\n",
       "    }\n",
       "  }\n",
       "</style>\n",
       "\n",
       "  <script>\n",
       "    async function quickchart(key) {\n",
       "      const quickchartButtonEl =\n",
       "        document.querySelector('#' + key + ' button');\n",
       "      quickchartButtonEl.disabled = true;  // To prevent multiple clicks.\n",
       "      quickchartButtonEl.classList.add('colab-df-spinner');\n",
       "      try {\n",
       "        const charts = await google.colab.kernel.invokeFunction(\n",
       "            'suggestCharts', [key], {});\n",
       "      } catch (error) {\n",
       "        console.error('Error during call to suggestCharts:', error);\n",
       "      }\n",
       "      quickchartButtonEl.classList.remove('colab-df-spinner');\n",
       "      quickchartButtonEl.classList.add('colab-df-quickchart-complete');\n",
       "    }\n",
       "    (() => {\n",
       "      let quickchartButtonEl =\n",
       "        document.querySelector('#df-f2b27a3c-0312-4a40-b226-2985eb1ec38b button');\n",
       "      quickchartButtonEl.style.display =\n",
       "        google.colab.kernel.accessAllowed ? 'block' : 'none';\n",
       "    })();\n",
       "  </script>\n",
       "</div>\n",
       "\n",
       "  <div id=\"id_0c0ad8d9-e8b3-4f70-bb5c-99120d1abacb\">\n",
       "    <style>\n",
       "      .colab-df-generate {\n",
       "        background-color: #E8F0FE;\n",
       "        border: none;\n",
       "        border-radius: 50%;\n",
       "        cursor: pointer;\n",
       "        display: none;\n",
       "        fill: #1967D2;\n",
       "        height: 32px;\n",
       "        padding: 0 0 0 0;\n",
       "        width: 32px;\n",
       "      }\n",
       "\n",
       "      .colab-df-generate:hover {\n",
       "        background-color: #E2EBFA;\n",
       "        box-shadow: 0px 1px 2px rgba(60, 64, 67, 0.3), 0px 1px 3px 1px rgba(60, 64, 67, 0.15);\n",
       "        fill: #174EA6;\n",
       "      }\n",
       "\n",
       "      [theme=dark] .colab-df-generate {\n",
       "        background-color: #3B4455;\n",
       "        fill: #D2E3FC;\n",
       "      }\n",
       "\n",
       "      [theme=dark] .colab-df-generate:hover {\n",
       "        background-color: #434B5C;\n",
       "        box-shadow: 0px 1px 3px 1px rgba(0, 0, 0, 0.15);\n",
       "        filter: drop-shadow(0px 1px 2px rgba(0, 0, 0, 0.3));\n",
       "        fill: #FFFFFF;\n",
       "      }\n",
       "    </style>\n",
       "    <button class=\"colab-df-generate\" onclick=\"generateWithVariable('results')\"\n",
       "            title=\"Generate code using this dataframe.\"\n",
       "            style=\"display:none;\">\n",
       "\n",
       "  <svg xmlns=\"http://www.w3.org/2000/svg\" height=\"24px\"viewBox=\"0 0 24 24\"\n",
       "       width=\"24px\">\n",
       "    <path d=\"M7,19H8.4L18.45,9,17,7.55,7,17.6ZM5,21V16.75L18.45,3.32a2,2,0,0,1,2.83,0l1.4,1.43a1.91,1.91,0,0,1,.58,1.4,1.91,1.91,0,0,1-.58,1.4L9.25,21ZM18.45,9,17,7.55Zm-12,3A5.31,5.31,0,0,0,4.9,8.1,5.31,5.31,0,0,0,1,6.5,5.31,5.31,0,0,0,4.9,4.9,5.31,5.31,0,0,0,6.5,1,5.31,5.31,0,0,0,8.1,4.9,5.31,5.31,0,0,0,12,6.5,5.46,5.46,0,0,0,6.5,12Z\"/>\n",
       "  </svg>\n",
       "    </button>\n",
       "    <script>\n",
       "      (() => {\n",
       "      const buttonEl =\n",
       "        document.querySelector('#id_0c0ad8d9-e8b3-4f70-bb5c-99120d1abacb button.colab-df-generate');\n",
       "      buttonEl.style.display =\n",
       "        google.colab.kernel.accessAllowed ? 'block' : 'none';\n",
       "\n",
       "      buttonEl.onclick = () => {\n",
       "        google.colab.notebook.generateWithVariable('results');\n",
       "      }\n",
       "      })();\n",
       "    </script>\n",
       "  </div>\n",
       "\n",
       "    </div>\n",
       "  </div>\n"
      ],
      "text/plain": [
       "           x0        x1        x2        x3     f(x0)     f(x1)     f(x2)  \\\n",
       "Iteración                                                                   \n",
       "0           0  1.000000  4.000000  1.505535  0.000000  1.582942 -3.113605   \n",
       "1           1  1.505535  4.000000  1.490253  1.582942  1.769079 -3.113605   \n",
       "2           1  1.505535  1.490253  1.425636  1.582942  1.769079  1.771431   \n",
       "3           1  1.505535  1.425636  1.426383  1.582942  1.769079  1.775722   \n",
       "4           1  1.505535  1.426383  1.426374  1.582942  1.769079  1.775724   \n",
       "5           1  1.505535  1.426374  1.426374  1.582942  1.769079  1.775724   \n",
       "6           1  1.505535  1.426374  1.426374  1.582942  1.769079  1.775724   \n",
       "\n",
       "              f(x3)     Error  \n",
       "Iteración                      \n",
       "0          1.769079  4.000000  \n",
       "1          1.771431  3.000000  \n",
       "2          1.775722  0.490253  \n",
       "3          1.775724  0.425636  \n",
       "4          1.775724  0.426383  \n",
       "5          1.775724  0.426374  \n",
       "6          1.775724  0.426374  "
      ]
     },
     "execution_count": 19,
     "metadata": {},
     "output_type": "execute_result"
    }
   ],
   "source": [
    "results = pd.DataFrame(data=df,columns=['Iteración','x0','x1','x2','x3','f(x0)','f(x1)','f(x2)','f(x3)','Error']).set_index('Iteración')\n",
    "results"
   ]
  },
  {
   "cell_type": "code",
   "execution_count": null,
   "metadata": {
    "colab": {
     "base_uri": "https://localhost:8080/",
     "height": 472
    },
    "executionInfo": {
     "elapsed": 13,
     "status": "ok",
     "timestamp": 1742577369384,
     "user": {
      "displayName": "EFRAÍN GARC�A VALENCIA",
      "userId": "07090753714787850374"
     },
     "user_tz": 300
    },
    "id": "G49B39IvG9zb",
    "outputId": "5f4781f1-7e14-4608-d51e-7add56b698ba"
   },
   "outputs": [
    {
     "data": {
      "image/png": "[encoded data removed]",
      "text/plain": [
       "<Figure size 640x480 with 1 Axes>"
      ]
     },
     "metadata": {},
     "output_type": "display_data"
    }
   ],
   "source": [
    "plt.plot(results.index, results[\"Error\"])\n",
    "plt.xlabel(\"Iteración\")\n",
    "plt.ylabel(\"Error\")\n",
    "plt.title(\"Error en cada iteración\")\n",
    "plt.grid(True)\n",
    "plt.show()"
   ]
  },
  {
   "cell_type": "code",
   "execution_count": null,
   "metadata": {
    "id": "lWcDfyKyzhZQ"
   },
   "outputs": [],
   "source": []
  }
 ],
 "metadata": {
  "colab": {
   "provenance": []
  },
  "kernelspec": {
   "display_name": "Python 3",
   "name": "python3"
  },
  "language_info": {
   "name": "python"
  }
 },
 "nbformat": 4,
 "nbformat_minor": 0
}
